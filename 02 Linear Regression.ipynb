{
 "cells": [
  {
   "cell_type": "code",
   "execution_count": 79,
   "id": "81ef5c30",
   "metadata": {},
   "outputs": [],
   "source": [
    "import numpy as np\n",
    "import matplotlib.pyplot as plt\n",
    "import pandas as pd"
   ]
  },
  {
   "cell_type": "code",
   "execution_count": 80,
   "id": "eca22de2",
   "metadata": {},
   "outputs": [
    {
     "data": {
      "text/html": [
       "<div>\n",
       "<style scoped>\n",
       "    .dataframe tbody tr th:only-of-type {\n",
       "        vertical-align: middle;\n",
       "    }\n",
       "\n",
       "    .dataframe tbody tr th {\n",
       "        vertical-align: top;\n",
       "    }\n",
       "\n",
       "    .dataframe thead th {\n",
       "        text-align: right;\n",
       "    }\n",
       "</style>\n",
       "<table border=\"1\" class=\"dataframe\">\n",
       "  <thead>\n",
       "    <tr style=\"text-align: right;\">\n",
       "      <th></th>\n",
       "      <th>model</th>\n",
       "      <th>year</th>\n",
       "      <th>price</th>\n",
       "      <th>type</th>\n",
       "      <th>distance</th>\n",
       "      <th>fuel</th>\n",
       "      <th>tax</th>\n",
       "      <th>miles per galoon</th>\n",
       "      <th>size</th>\n",
       "    </tr>\n",
       "  </thead>\n",
       "  <tbody>\n",
       "    <tr>\n",
       "      <th>0</th>\n",
       "      <td>0</td>\n",
       "      <td>2019.0</td>\n",
       "      <td>21998.0</td>\n",
       "      <td>2</td>\n",
       "      <td>11578.0</td>\n",
       "      <td>2</td>\n",
       "      <td>150.0</td>\n",
       "      <td>53.3</td>\n",
       "      <td>1.3</td>\n",
       "    </tr>\n",
       "    <tr>\n",
       "      <th>1</th>\n",
       "      <td>0</td>\n",
       "      <td>2014.0</td>\n",
       "      <td>10498.0</td>\n",
       "      <td>1</td>\n",
       "      <td>63177.0</td>\n",
       "      <td>0</td>\n",
       "      <td>30.0</td>\n",
       "      <td>64.2</td>\n",
       "      <td>2.1</td>\n",
       "    </tr>\n",
       "    <tr>\n",
       "      <th>2</th>\n",
       "      <td>0</td>\n",
       "      <td>2016.0</td>\n",
       "      <td>12498.0</td>\n",
       "      <td>1</td>\n",
       "      <td>54544.0</td>\n",
       "      <td>0</td>\n",
       "      <td>20.0</td>\n",
       "      <td>72.4</td>\n",
       "      <td>1.5</td>\n",
       "    </tr>\n",
       "    <tr>\n",
       "      <th>3</th>\n",
       "      <td>0</td>\n",
       "      <td>2018.0</td>\n",
       "      <td>17498.0</td>\n",
       "      <td>1</td>\n",
       "      <td>8601.0</td>\n",
       "      <td>2</td>\n",
       "      <td>145.0</td>\n",
       "      <td>51.4</td>\n",
       "      <td>1.6</td>\n",
       "    </tr>\n",
       "    <tr>\n",
       "      <th>4</th>\n",
       "      <td>0</td>\n",
       "      <td>2017.0</td>\n",
       "      <td>16798.0</td>\n",
       "      <td>1</td>\n",
       "      <td>24388.0</td>\n",
       "      <td>0</td>\n",
       "      <td>20.0</td>\n",
       "      <td>68.9</td>\n",
       "      <td>1.5</td>\n",
       "    </tr>\n",
       "    <tr>\n",
       "      <th>...</th>\n",
       "      <td>...</td>\n",
       "      <td>...</td>\n",
       "      <td>...</td>\n",
       "      <td>...</td>\n",
       "      <td>...</td>\n",
       "      <td>...</td>\n",
       "      <td>...</td>\n",
       "      <td>...</td>\n",
       "      <td>...</td>\n",
       "    </tr>\n",
       "    <tr>\n",
       "      <th>439</th>\n",
       "      <td>16</td>\n",
       "      <td>2016.0</td>\n",
       "      <td>26490.0</td>\n",
       "      <td>2</td>\n",
       "      <td>32494.0</td>\n",
       "      <td>0</td>\n",
       "      <td>200.0</td>\n",
       "      <td>45.6</td>\n",
       "      <td>2.2</td>\n",
       "    </tr>\n",
       "    <tr>\n",
       "      <th>440</th>\n",
       "      <td>16</td>\n",
       "      <td>2018.0</td>\n",
       "      <td>19498.0</td>\n",
       "      <td>1</td>\n",
       "      <td>24164.0</td>\n",
       "      <td>0</td>\n",
       "      <td>145.0</td>\n",
       "      <td>46.3</td>\n",
       "      <td>2.1</td>\n",
       "    </tr>\n",
       "    <tr>\n",
       "      <th>441</th>\n",
       "      <td>16</td>\n",
       "      <td>2018.0</td>\n",
       "      <td>20498.0</td>\n",
       "      <td>1</td>\n",
       "      <td>25254.0</td>\n",
       "      <td>0</td>\n",
       "      <td>145.0</td>\n",
       "      <td>46.3</td>\n",
       "      <td>2.1</td>\n",
       "    </tr>\n",
       "    <tr>\n",
       "      <th>442</th>\n",
       "      <td>16</td>\n",
       "      <td>2018.0</td>\n",
       "      <td>20498.0</td>\n",
       "      <td>1</td>\n",
       "      <td>20841.0</td>\n",
       "      <td>0</td>\n",
       "      <td>145.0</td>\n",
       "      <td>46.3</td>\n",
       "      <td>2.1</td>\n",
       "    </tr>\n",
       "    <tr>\n",
       "      <th>443</th>\n",
       "      <td>16</td>\n",
       "      <td>2018.0</td>\n",
       "      <td>20498.0</td>\n",
       "      <td>1</td>\n",
       "      <td>22033.0</td>\n",
       "      <td>0</td>\n",
       "      <td>145.0</td>\n",
       "      <td>46.3</td>\n",
       "      <td>2.1</td>\n",
       "    </tr>\n",
       "  </tbody>\n",
       "</table>\n",
       "<p>444 rows × 9 columns</p>\n",
       "</div>"
      ],
      "text/plain": [
       "     model    year    price  type  distance  fuel    tax  miles per galoon  \\\n",
       "0        0  2019.0  21998.0     2   11578.0     2  150.0              53.3   \n",
       "1        0  2014.0  10498.0     1   63177.0     0   30.0              64.2   \n",
       "2        0  2016.0  12498.0     1   54544.0     0   20.0              72.4   \n",
       "3        0  2018.0  17498.0     1    8601.0     2  145.0              51.4   \n",
       "4        0  2017.0  16798.0     1   24388.0     0   20.0              68.9   \n",
       "..     ...     ...      ...   ...       ...   ...    ...               ...   \n",
       "439     16  2016.0  26490.0     2   32494.0     0  200.0              45.6   \n",
       "440     16  2018.0  19498.0     1   24164.0     0  145.0              46.3   \n",
       "441     16  2018.0  20498.0     1   25254.0     0  145.0              46.3   \n",
       "442     16  2018.0  20498.0     1   20841.0     0  145.0              46.3   \n",
       "443     16  2018.0  20498.0     1   22033.0     0  145.0              46.3   \n",
       "\n",
       "     size  \n",
       "0     1.3  \n",
       "1     2.1  \n",
       "2     1.5  \n",
       "3     1.6  \n",
       "4     1.5  \n",
       "..    ...  \n",
       "439   2.2  \n",
       "440   2.1  \n",
       "441   2.1  \n",
       "442   2.1  \n",
       "443   2.1  \n",
       "\n",
       "[444 rows x 9 columns]"
      ]
     },
     "execution_count": 80,
     "metadata": {},
     "output_type": "execute_result"
    }
   ],
   "source": [
    "df = pd.read_csv('merc1.csv', sep=',')\n",
    "df"
   ]
  },
  {
   "cell_type": "code",
   "execution_count": 81,
   "id": "796a7582",
   "metadata": {},
   "outputs": [
    {
     "data": {
      "text/html": [
       "<div>\n",
       "<style scoped>\n",
       "    .dataframe tbody tr th:only-of-type {\n",
       "        vertical-align: middle;\n",
       "    }\n",
       "\n",
       "    .dataframe tbody tr th {\n",
       "        vertical-align: top;\n",
       "    }\n",
       "\n",
       "    .dataframe thead th {\n",
       "        text-align: right;\n",
       "    }\n",
       "</style>\n",
       "<table border=\"1\" class=\"dataframe\">\n",
       "  <thead>\n",
       "    <tr style=\"text-align: right;\">\n",
       "      <th></th>\n",
       "      <th>model</th>\n",
       "      <th>year</th>\n",
       "      <th>type</th>\n",
       "      <th>distance</th>\n",
       "      <th>fuel</th>\n",
       "      <th>tax</th>\n",
       "      <th>miles per galoon</th>\n",
       "      <th>size</th>\n",
       "    </tr>\n",
       "  </thead>\n",
       "  <tbody>\n",
       "    <tr>\n",
       "      <th>0</th>\n",
       "      <td>0</td>\n",
       "      <td>2019.0</td>\n",
       "      <td>2</td>\n",
       "      <td>11578.0</td>\n",
       "      <td>2</td>\n",
       "      <td>150.0</td>\n",
       "      <td>53.3</td>\n",
       "      <td>1.3</td>\n",
       "    </tr>\n",
       "    <tr>\n",
       "      <th>1</th>\n",
       "      <td>0</td>\n",
       "      <td>2014.0</td>\n",
       "      <td>1</td>\n",
       "      <td>63177.0</td>\n",
       "      <td>0</td>\n",
       "      <td>30.0</td>\n",
       "      <td>64.2</td>\n",
       "      <td>2.1</td>\n",
       "    </tr>\n",
       "    <tr>\n",
       "      <th>2</th>\n",
       "      <td>0</td>\n",
       "      <td>2016.0</td>\n",
       "      <td>1</td>\n",
       "      <td>54544.0</td>\n",
       "      <td>0</td>\n",
       "      <td>20.0</td>\n",
       "      <td>72.4</td>\n",
       "      <td>1.5</td>\n",
       "    </tr>\n",
       "    <tr>\n",
       "      <th>3</th>\n",
       "      <td>0</td>\n",
       "      <td>2018.0</td>\n",
       "      <td>1</td>\n",
       "      <td>8601.0</td>\n",
       "      <td>2</td>\n",
       "      <td>145.0</td>\n",
       "      <td>51.4</td>\n",
       "      <td>1.6</td>\n",
       "    </tr>\n",
       "    <tr>\n",
       "      <th>4</th>\n",
       "      <td>0</td>\n",
       "      <td>2017.0</td>\n",
       "      <td>1</td>\n",
       "      <td>24388.0</td>\n",
       "      <td>0</td>\n",
       "      <td>20.0</td>\n",
       "      <td>68.9</td>\n",
       "      <td>1.5</td>\n",
       "    </tr>\n",
       "    <tr>\n",
       "      <th>...</th>\n",
       "      <td>...</td>\n",
       "      <td>...</td>\n",
       "      <td>...</td>\n",
       "      <td>...</td>\n",
       "      <td>...</td>\n",
       "      <td>...</td>\n",
       "      <td>...</td>\n",
       "      <td>...</td>\n",
       "    </tr>\n",
       "    <tr>\n",
       "      <th>439</th>\n",
       "      <td>16</td>\n",
       "      <td>2016.0</td>\n",
       "      <td>2</td>\n",
       "      <td>32494.0</td>\n",
       "      <td>0</td>\n",
       "      <td>200.0</td>\n",
       "      <td>45.6</td>\n",
       "      <td>2.2</td>\n",
       "    </tr>\n",
       "    <tr>\n",
       "      <th>440</th>\n",
       "      <td>16</td>\n",
       "      <td>2018.0</td>\n",
       "      <td>1</td>\n",
       "      <td>24164.0</td>\n",
       "      <td>0</td>\n",
       "      <td>145.0</td>\n",
       "      <td>46.3</td>\n",
       "      <td>2.1</td>\n",
       "    </tr>\n",
       "    <tr>\n",
       "      <th>441</th>\n",
       "      <td>16</td>\n",
       "      <td>2018.0</td>\n",
       "      <td>1</td>\n",
       "      <td>25254.0</td>\n",
       "      <td>0</td>\n",
       "      <td>145.0</td>\n",
       "      <td>46.3</td>\n",
       "      <td>2.1</td>\n",
       "    </tr>\n",
       "    <tr>\n",
       "      <th>442</th>\n",
       "      <td>16</td>\n",
       "      <td>2018.0</td>\n",
       "      <td>1</td>\n",
       "      <td>20841.0</td>\n",
       "      <td>0</td>\n",
       "      <td>145.0</td>\n",
       "      <td>46.3</td>\n",
       "      <td>2.1</td>\n",
       "    </tr>\n",
       "    <tr>\n",
       "      <th>443</th>\n",
       "      <td>16</td>\n",
       "      <td>2018.0</td>\n",
       "      <td>1</td>\n",
       "      <td>22033.0</td>\n",
       "      <td>0</td>\n",
       "      <td>145.0</td>\n",
       "      <td>46.3</td>\n",
       "      <td>2.1</td>\n",
       "    </tr>\n",
       "  </tbody>\n",
       "</table>\n",
       "<p>444 rows × 8 columns</p>\n",
       "</div>"
      ],
      "text/plain": [
       "     model    year  type  distance  fuel    tax  miles per galoon  size\n",
       "0        0  2019.0     2   11578.0     2  150.0              53.3   1.3\n",
       "1        0  2014.0     1   63177.0     0   30.0              64.2   2.1\n",
       "2        0  2016.0     1   54544.0     0   20.0              72.4   1.5\n",
       "3        0  2018.0     1    8601.0     2  145.0              51.4   1.6\n",
       "4        0  2017.0     1   24388.0     0   20.0              68.9   1.5\n",
       "..     ...     ...   ...       ...   ...    ...               ...   ...\n",
       "439     16  2016.0     2   32494.0     0  200.0              45.6   2.2\n",
       "440     16  2018.0     1   24164.0     0  145.0              46.3   2.1\n",
       "441     16  2018.0     1   25254.0     0  145.0              46.3   2.1\n",
       "442     16  2018.0     1   20841.0     0  145.0              46.3   2.1\n",
       "443     16  2018.0     1   22033.0     0  145.0              46.3   2.1\n",
       "\n",
       "[444 rows x 8 columns]"
      ]
     },
     "execution_count": 81,
     "metadata": {},
     "output_type": "execute_result"
    }
   ],
   "source": [
    "X = df.iloc[:, [True,True,False,True,True,True,True,True,True]]\n",
    "y = df['price']\n",
    "from sklearn.model_selection import train_test_split\n",
    "X_train, X_test, y_train, y_test = train_test_split(X, y, test_size=0.2, random_state=10)\n",
    "X"
   ]
  },
  {
   "cell_type": "code",
   "execution_count": 82,
   "id": "771e6c04",
   "metadata": {},
   "outputs": [
    {
     "data": {
      "text/plain": [
       "(array([2758.4975455]), -5540488.243003615)"
      ]
     },
     "execution_count": 82,
     "metadata": {},
     "output_type": "execute_result"
    }
   ],
   "source": [
    "f1 = ['year']\n",
    "\n",
    "from sklearn.linear_model import LinearRegression\n",
    "sr = LinearRegression().fit(X_train[f1], y_train)\n",
    "\n",
    "sr.coef_, sr.intercept_"
   ]
  },
  {
   "cell_type": "markdown",
   "id": "39041a2f",
   "metadata": {},
   "source": [
    "Линейная регрессия имеет вид Цена = 2758.4975455*Год-5540488.243003615"
   ]
  },
  {
   "cell_type": "code",
   "execution_count": 83,
   "id": "7684577b",
   "metadata": {},
   "outputs": [
    {
     "data": {
      "text/plain": [
       "(0.484, 0.35)"
      ]
     },
     "execution_count": 83,
     "metadata": {},
     "output_type": "execute_result"
    }
   ],
   "source": [
    "y_pred = sr.predict(X_test[f1])\n",
    "sr.score(X_train[f1], y_train).round(3), sr.score(X_test[f1], y_test).round(3)"
   ]
  },
  {
   "cell_type": "code",
   "execution_count": 84,
   "id": "84ebbe5b",
   "metadata": {},
   "outputs": [
    {
     "data": {
      "text/plain": [
       "(5939.77, 5539.86)"
      ]
     },
     "execution_count": 84,
     "metadata": {},
     "output_type": "execute_result"
    }
   ],
   "source": [
    "from sklearn.metrics import mean_squared_error\n",
    "mean_squared_error(y_train, sr.predict(X_train[f1]), squared=False).round(2), mean_squared_error(y_test, y_pred, squared=False).round(2)"
   ]
  },
  {
   "cell_type": "code",
   "execution_count": 85,
   "id": "1956fe07",
   "metadata": {},
   "outputs": [
    {
     "data": {
      "image/png": "[encoded data removed]",
      "text/plain": [
       "<Figure size 432x288 with 1 Axes>"
      ]
     },
     "metadata": {},
     "output_type": "display_data"
    }
   ],
   "source": [
    "plt.scatter(X_test['year'], y_test, color = 'red')\n",
    "plt.plot(X_test['year'], sr.predict(X_test[f1]), 'bo')\n",
    "plt.title('Price & Year (Test set)')\n",
    "plt.xlabel('Year')\n",
    "plt.ylabel('Price')\n",
    "plt.show()"
   ]
  },
  {
   "cell_type": "markdown",
   "id": "e98fd8b4",
   "metadata": {},
   "source": [
    "Согласно графику, цена авыше автомобиля, который был выпущен позже"
   ]
  },
  {
   "cell_type": "code",
   "execution_count": 86,
   "id": "36cced60",
   "metadata": {},
   "outputs": [
    {
     "data": {
      "text/plain": [
       "0.768"
      ]
     },
     "execution_count": 86,
     "metadata": {},
     "output_type": "execute_result"
    }
   ],
   "source": [
    "mr = LinearRegression().fit(X_train, y_train)\n",
    "mr.score(X_train, y_train).round(3)"
   ]
  },
  {
   "cell_type": "markdown",
   "id": "d3194962",
   "metadata": {},
   "source": [
    "Коэффициент регрессии = 0,768"
   ]
  },
  {
   "cell_type": "code",
   "execution_count": 87,
   "id": "e6925f56",
   "metadata": {},
   "outputs": [
    {
     "data": {
      "image/png": "[encoded data removed]",
      "text/plain": [
       "<Figure size 432x288 with 1 Axes>"
      ]
     },
     "metadata": {},
     "output_type": "display_data"
    }
   ],
   "source": [
    "# Visualising the Test set results\n",
    "plt.scatter(X_test['year'], y_test, color = 'red')\n",
    "plt.plot(X_test['year'], mr.predict(X_test), 'bo')\n",
    "plt.title('Price & Year')\n",
    "plt.xlabel('Year')\n",
    "plt.ylabel('Price')\n",
    "plt.show()"
   ]
  },
  {
   "cell_type": "code",
   "execution_count": 88,
   "id": "a5653198",
   "metadata": {},
   "outputs": [
    {
     "data": {
      "text/html": [
       "<table class=\"simpletable\">\n",
       "<caption>OLS Regression Results</caption>\n",
       "<tr>\n",
       "  <th>Dep. Variable:</th>          <td>price</td>      <th>  R-squared:         </th> <td>   0.768</td> \n",
       "</tr>\n",
       "<tr>\n",
       "  <th>Model:</th>                   <td>OLS</td>       <th>  Adj. R-squared:    </th> <td>   0.763</td> \n",
       "</tr>\n",
       "<tr>\n",
       "  <th>Method:</th>             <td>Least Squares</td>  <th>  F-statistic:       </th> <td>   143.5</td> \n",
       "</tr>\n",
       "<tr>\n",
       "  <th>Date:</th>             <td>Tue, 21 Dec 2021</td> <th>  Prob (F-statistic):</th> <td>5.05e-105</td>\n",
       "</tr>\n",
       "<tr>\n",
       "  <th>Time:</th>                 <td>08:04:03</td>     <th>  Log-Likelihood:    </th> <td> -3446.4</td> \n",
       "</tr>\n",
       "<tr>\n",
       "  <th>No. Observations:</th>      <td>   355</td>      <th>  AIC:               </th> <td>   6911.</td> \n",
       "</tr>\n",
       "<tr>\n",
       "  <th>Df Residuals:</th>          <td>   346</td>      <th>  BIC:               </th> <td>   6946.</td> \n",
       "</tr>\n",
       "<tr>\n",
       "  <th>Df Model:</th>              <td>     8</td>      <th>                     </th>     <td> </td>    \n",
       "</tr>\n",
       "<tr>\n",
       "  <th>Covariance Type:</th>      <td>nonrobust</td>    <th>                     </th>     <td> </td>    \n",
       "</tr>\n",
       "</table>\n",
       "<table class=\"simpletable\">\n",
       "<tr>\n",
       "          <td></td>            <th>coef</th>     <th>std err</th>      <th>t</th>      <th>P>|t|</th>  <th>[0.025</th>    <th>0.975]</th>  \n",
       "</tr>\n",
       "<tr>\n",
       "  <th>const</th>            <td>-4.658e+06</td> <td> 3.37e+05</td> <td>  -13.824</td> <td> 0.000</td> <td>-5.32e+06</td> <td>-3.99e+06</td>\n",
       "</tr>\n",
       "<tr>\n",
       "  <th>model</th>            <td>  211.8901</td> <td>   53.314</td> <td>    3.974</td> <td> 0.000</td> <td>  107.030</td> <td>  316.751</td>\n",
       "</tr>\n",
       "<tr>\n",
       "  <th>year</th>             <td> 2321.6218</td> <td>  166.717</td> <td>   13.926</td> <td> 0.000</td> <td> 1993.716</td> <td> 2649.528</td>\n",
       "</tr>\n",
       "<tr>\n",
       "  <th>type</th>             <td>  905.8682</td> <td>  247.032</td> <td>    3.667</td> <td> 0.000</td> <td>  419.996</td> <td> 1391.741</td>\n",
       "</tr>\n",
       "<tr>\n",
       "  <th>distance</th>         <td>   -0.0963</td> <td>    0.018</td> <td>   -5.358</td> <td> 0.000</td> <td>   -0.132</td> <td>   -0.061</td>\n",
       "</tr>\n",
       "<tr>\n",
       "  <th>fuel</th>             <td> -440.4066</td> <td>  340.128</td> <td>   -1.295</td> <td> 0.196</td> <td>-1109.384</td> <td>  228.571</td>\n",
       "</tr>\n",
       "<tr>\n",
       "  <th>tax</th>              <td>   -6.0108</td> <td>    4.660</td> <td>   -1.290</td> <td> 0.198</td> <td>  -15.177</td> <td>    3.155</td>\n",
       "</tr>\n",
       "<tr>\n",
       "  <th>miles per galoon</th> <td> -198.2729</td> <td>   30.850</td> <td>   -6.427</td> <td> 0.000</td> <td> -258.949</td> <td> -137.597</td>\n",
       "</tr>\n",
       "<tr>\n",
       "  <th>size</th>             <td> 4869.2433</td> <td>  600.453</td> <td>    8.109</td> <td> 0.000</td> <td> 3688.246</td> <td> 6050.241</td>\n",
       "</tr>\n",
       "</table>\n",
       "<table class=\"simpletable\">\n",
       "<tr>\n",
       "  <th>Omnibus:</th>       <td>24.175</td> <th>  Durbin-Watson:     </th> <td>   2.080</td>\n",
       "</tr>\n",
       "<tr>\n",
       "  <th>Prob(Omnibus):</th> <td> 0.000</td> <th>  Jarque-Bera (JB):  </th> <td>  39.519</td>\n",
       "</tr>\n",
       "<tr>\n",
       "  <th>Skew:</th>          <td> 0.450</td> <th>  Prob(JB):          </th> <td>2.62e-09</td>\n",
       "</tr>\n",
       "<tr>\n",
       "  <th>Kurtosis:</th>      <td> 4.365</td> <th>  Cond. No.          </th> <td>4.99e+07</td>\n",
       "</tr>\n",
       "</table><br/><br/>Notes:<br/>[1] Standard Errors assume that the covariance matrix of the errors is correctly specified.<br/>[2] The condition number is large, 4.99e+07. This might indicate that there are<br/>strong multicollinearity or other numerical problems."
      ],
      "text/plain": [
       "<class 'statsmodels.iolib.summary.Summary'>\n",
       "\"\"\"\n",
       "                            OLS Regression Results                            \n",
       "==============================================================================\n",
       "Dep. Variable:                  price   R-squared:                       0.768\n",
       "Model:                            OLS   Adj. R-squared:                  0.763\n",
       "Method:                 Least Squares   F-statistic:                     143.5\n",
       "Date:                Tue, 21 Dec 2021   Prob (F-statistic):          5.05e-105\n",
       "Time:                        08:04:03   Log-Likelihood:                -3446.4\n",
       "No. Observations:                 355   AIC:                             6911.\n",
       "Df Residuals:                     346   BIC:                             6946.\n",
       "Df Model:                           8                                         \n",
       "Covariance Type:            nonrobust                                         \n",
       "====================================================================================\n",
       "                       coef    std err          t      P>|t|      [0.025      0.975]\n",
       "------------------------------------------------------------------------------------\n",
       "const            -4.658e+06   3.37e+05    -13.824      0.000   -5.32e+06   -3.99e+06\n",
       "model              211.8901     53.314      3.974      0.000     107.030     316.751\n",
       "year              2321.6218    166.717     13.926      0.000    1993.716    2649.528\n",
       "type               905.8682    247.032      3.667      0.000     419.996    1391.741\n",
       "distance            -0.0963      0.018     -5.358      0.000      -0.132      -0.061\n",
       "fuel              -440.4066    340.128     -1.295      0.196   -1109.384     228.571\n",
       "tax                 -6.0108      4.660     -1.290      0.198     -15.177       3.155\n",
       "miles per galoon  -198.2729     30.850     -6.427      0.000    -258.949    -137.597\n",
       "size              4869.2433    600.453      8.109      0.000    3688.246    6050.241\n",
       "==============================================================================\n",
       "Omnibus:                       24.175   Durbin-Watson:                   2.080\n",
       "Prob(Omnibus):                  0.000   Jarque-Bera (JB):               39.519\n",
       "Skew:                           0.450   Prob(JB):                     2.62e-09\n",
       "Kurtosis:                       4.365   Cond. No.                     4.99e+07\n",
       "==============================================================================\n",
       "\n",
       "Notes:\n",
       "[1] Standard Errors assume that the covariance matrix of the errors is correctly specified.\n",
       "[2] The condition number is large, 4.99e+07. This might indicate that there are\n",
       "strong multicollinearity or other numerical problems.\n",
       "\"\"\""
      ]
     },
     "execution_count": 88,
     "metadata": {},
     "output_type": "execute_result"
    }
   ],
   "source": [
    "# Checking p-values\n",
    "import statsmodels.api as sm\n",
    "X1 = sm.add_constant(X_train)\n",
    "mr1 = sm.OLS(y_train, X1).fit()\n",
    "#mr1.pvalues\n",
    "mr1.summary()"
   ]
  },
  {
   "cell_type": "code",
   "execution_count": 89,
   "id": "369a8063",
   "metadata": {},
   "outputs": [
    {
     "data": {
      "text/plain": [
       "(array([-1.37435447e+08,  9.23369774e+04,  4.65413133e+05, -6.53061506e+05,\n",
       "         3.89209251e+01, -3.83867730e+05, -2.00829085e+04, -1.19384836e+05,\n",
       "        -2.99427137e+06, -1.84516610e+01, -4.69766245e+01, -1.31895175e+01,\n",
       "        -5.35749168e-03, -6.86789128e+01,  4.44020535e+00,  2.56546826e+01,\n",
       "         4.81349448e+02, -1.16743248e+02,  3.15248984e+02, -1.97592352e-02,\n",
       "         1.96525792e+02,  9.86634919e+00,  5.85723668e+01,  1.49838624e+03,\n",
       "         3.12277384e+03,  2.63915127e-02,  9.25135395e+01,  4.49700327e+01,\n",
       "         8.21010735e+01,  2.36294282e+02,  1.54759618e-06,  3.37881678e-02,\n",
       "         8.50529840e-04,  7.62108692e-03,  5.84750206e-02, -7.61252745e+03,\n",
       "         1.43934300e+00,  3.09162836e+01, -7.31117782e+02,  2.13133967e-01,\n",
       "         7.69648072e-01, -1.01952150e+01,  6.55911225e+00, -1.81056716e+02,\n",
       "        -4.08876687e+03]),\n",
       " -326284428.5528365)"
      ]
     },
     "execution_count": 89,
     "metadata": {},
     "output_type": "execute_result"
    }
   ],
   "source": [
    "# Fitting Polynomial Regression to the dataset\n",
    "from sklearn.preprocessing import PolynomialFeatures\n",
    "X_train_p = PolynomialFeatures().fit_transform(X_train)\n",
    "X_test_p = PolynomialFeatures().fit_transform(X_test)\n",
    "\n",
    "pr = LinearRegression().fit(X_train_p, y_train)\n",
    "\n",
    "# Getting parameters\n",
    "pr.coef_, pr.intercept_"
   ]
  },
  {
   "cell_type": "code",
   "execution_count": 90,
   "id": "ee928319",
   "metadata": {},
   "outputs": [
    {
     "data": {
      "text/plain": [
       "0.843"
      ]
     },
     "execution_count": 90,
     "metadata": {},
     "output_type": "execute_result"
    }
   ],
   "source": [
    "# Predicting the Test set results\n",
    "y_pred = pr.predict(X_test_p)\n",
    "\n",
    "# Coefficient of determination R^2\n",
    "pr.score(X_train_p, y_train).round(3)"
   ]
  },
  {
   "cell_type": "markdown",
   "id": "8a04a90d",
   "metadata": {},
   "source": [
    "R^2 лучше для множественной линейной регресси."
   ]
  },
  {
   "cell_type": "code",
   "execution_count": 91,
   "id": "3766dca0",
   "metadata": {},
   "outputs": [
    {
     "data": {
      "text/plain": [
       "(3277.92, 4136.92)"
      ]
     },
     "execution_count": 91,
     "metadata": {},
     "output_type": "execute_result"
    }
   ],
   "source": [
    "# Mean squared error\n",
    "mean_squared_error(y_train, pr.predict(X_train_p), squared=False).round(2), mean_squared_error(y_test, y_pred, squared=False).round(2)"
   ]
  },
  {
   "cell_type": "code",
   "execution_count": 92,
   "id": "48f90979",
   "metadata": {},
   "outputs": [
    {
     "data": {
      "image/png": "[encoded data removed]",
      "text/plain": [
       "<Figure size 432x288 with 1 Axes>"
      ]
     },
     "metadata": {},
     "output_type": "display_data"
    }
   ],
   "source": [
    "# Visualising the Test set results\n",
    "plt.scatter(X_test['year'], y_test, color = 'red')\n",
    "plt.plot(X_test['year'], pr.predict(X_test_p), 'bo')\n",
    "plt.title('Price vs year (Test set)')\n",
    "plt.xlabel('year')\n",
    "plt.ylabel('Price')\n",
    "plt.show()"
   ]
  },
  {
   "cell_type": "code",
   "execution_count": 93,
   "id": "a3be05f9",
   "metadata": {},
   "outputs": [],
   "source": [
    "import pickle\n",
    "obj = {'X_train': X_train, 'X_test': X_test,'y_train': y_train,'y_test': y_test}\n",
    "output = open('merc2.pkl', 'wb')\n",
    "pickle.dump(obj, output, 2)\n",
    "output.close()"
   ]
  },
  {
   "cell_type": "code",
   "execution_count": null,
   "id": "b0022fae",
   "metadata": {},
   "outputs": [],
   "source": []
  }
 ],
 "metadata": {
  "kernelspec": {
   "display_name": "Python 3",
   "language": "python",
   "name": "python3"
  },
  "language_info": {
   "codemirror_mode": {
    "name": "ipython",
    "version": 3
   },
   "file_extension": ".py",
   "mimetype": "text/x-python",
   "name": "python",
   "nbconvert_exporter": "python",
   "pygments_lexer": "ipython3",
   "version": "3.8.8"
  }
 },
 "nbformat": 4,
 "nbformat_minor": 5
}
