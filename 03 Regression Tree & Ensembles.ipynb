{
 "cells": [
  {
   "cell_type": "code",
   "execution_count": 31,
   "id": "cd1a5eed",
   "metadata": {},
   "outputs": [],
   "source": [
    "# Importing the libraries\n",
    "import numpy as np\n",
    "import matplotlib.pyplot as plt\n",
    "import pandas as pd"
   ]
  },
  {
   "cell_type": "code",
   "execution_count": 32,
   "id": "0f861dfc",
   "metadata": {},
   "outputs": [],
   "source": [
    "# Importing prepared dataset\n",
    "import pickle\n",
    "input = open('merc2.pkl', 'rb')\n",
    "obj = pickle.load(input)\n",
    "input.close()\n",
    "X_train = obj[\"X_train\"]\n",
    "X_test = obj[\"X_test\"]\n",
    "y_train = obj[\"y_train\"]\n",
    "y_test = obj[\"y_test\"]\n",
    "\n",
    "f = ['model', 'year', 'type', 'distance', 'fuel', 'tax',\n",
    "       'miles per galoon']"
   ]
  },
  {
   "cell_type": "code",
   "execution_count": 33,
   "id": "8cf68bff",
   "metadata": {},
   "outputs": [],
   "source": [
    "# Metrics\n",
    "def metrics(X_train, X_test, y_train, y_test, y_pred, model):\n",
    "    RMSE = [mean_squared_error(y_train, model.predict(X_train),squared=False), mean_squared_error(y_test, y_pred, squared=False)]\n",
    "    R2 = [model.score(X_train, y_train), model.score(X_test, y_test)]\n",
    "    results = {'RMSE': RMSE, 'R2':R2}\n",
    "    return pd.DataFrame(results, index=['Train', 'Test'])"
   ]
  },
  {
   "cell_type": "markdown",
   "id": "41925ad1",
   "metadata": {},
   "source": [
    "# Tree"
   ]
  },
  {
   "cell_type": "code",
   "execution_count": 34,
   "id": "e6dc53fd",
   "metadata": {},
   "outputs": [
    {
     "data": {
      "image/png": "[encoded data removed]",
      "text/plain": [
       "<Figure size 576x288 with 1 Axes>"
      ]
     },
     "metadata": {
      "needs_background": "light"
     },
     "output_type": "display_data"
    }
   ],
   "source": [
    "from sklearn.tree import DecisionTreeRegressor\n",
    "from sklearn.metrics import mean_squared_error\n",
    "def max_leaf_nodes(X_train, X_test, y_train, y_test, n):\n",
    "    mse_train = []\n",
    "    mse_test = []\n",
    "    for i in n:\n",
    "        dt = DecisionTreeRegressor(max_leaf_nodes = i, random_state=10).fit(X_train, y_train)\n",
    "        mse_train.append(mean_squared_error(y_train, dt.predict(X_train)))\n",
    "        mse_test.append(mean_squared_error(y_test, dt.predict(X_test)))\n",
    "    fig, ax = plt.subplots(figsize=(8, 4))\n",
    "    ax.plot(n, mse_train, alpha=0.5, color='blue', label='train')\n",
    "    ax.plot(n, mse_test, alpha=0.5, color='red', label='test')\n",
    "    ax.set_ylabel(\"MSE\")\n",
    "    ax.set_xlabel(\"max_leaf_nodes\")\n",
    "    \n",
    "# The optimal number of max_leaf_nodes\n",
    "from sklearn.tree import DecisionTreeRegressor\n",
    "from sklearn.metrics import mean_squared_error\n",
    "max_leaf_nodes(X_train[f], X_test[f], y_train, y_test, [2, 4, 6, 8, 10, 12, 14, 16, 18, 20])"
   ]
  },
  {
   "cell_type": "code",
   "execution_count": 37,
   "id": "7e22c7d3",
   "metadata": {},
   "outputs": [
    {
     "data": {
      "text/html": [
       "<div>\n",
       "<style scoped>\n",
       "    .dataframe tbody tr th:only-of-type {\n",
       "        vertical-align: middle;\n",
       "    }\n",
       "\n",
       "    .dataframe tbody tr th {\n",
       "        vertical-align: top;\n",
       "    }\n",
       "\n",
       "    .dataframe thead th {\n",
       "        text-align: right;\n",
       "    }\n",
       "</style>\n",
       "<table border=\"1\" class=\"dataframe\">\n",
       "  <thead>\n",
       "    <tr style=\"text-align: right;\">\n",
       "      <th></th>\n",
       "      <th>RMSE</th>\n",
       "      <th>R2</th>\n",
       "    </tr>\n",
       "  </thead>\n",
       "  <tbody>\n",
       "    <tr>\n",
       "      <th>Train</th>\n",
       "      <td>3286.05</td>\n",
       "      <td>0.84</td>\n",
       "    </tr>\n",
       "    <tr>\n",
       "      <th>Test</th>\n",
       "      <td>3144.76</td>\n",
       "      <td>0.79</td>\n",
       "    </tr>\n",
       "  </tbody>\n",
       "</table>\n",
       "</div>"
      ],
      "text/plain": [
       "          RMSE    R2\n",
       "Train  3286.05  0.84\n",
       "Test   3144.76  0.79"
      ]
     },
     "execution_count": 37,
     "metadata": {},
     "output_type": "execute_result"
    }
   ],
   "source": [
    "# Fitting Tree to the Training set\n",
    "dt = DecisionTreeRegressor(max_leaf_nodes = 16).fit(X_train[f], y_train)\n",
    "\n",
    "# Predicting the Test set results\n",
    "dt_y_pred = dt.predict(X_test[f])\n",
    "\n",
    "# Metrics\n",
    "metrics(X_train[f], X_test[f], y_train, y_test, dt_y_pred, dt).round(2)"
   ]
  },
  {
   "cell_type": "markdown",
   "id": "945d3eac",
   "metadata": {},
   "source": [
    "Коэффициент корреляции лучше для значений Train"
   ]
  },
  {
   "cell_type": "code",
   "execution_count": 38,
   "id": "2640f91e",
   "metadata": {},
   "outputs": [
    {
     "data": {
      "image/png": "[encoded data removed]",
      "text/plain": [
       "<Figure size 432x288 with 1 Axes>"
      ]
     },
     "metadata": {
      "needs_background": "light"
     },
     "output_type": "display_data"
    }
   ],
   "source": [
    "# Visualising the Test set results\n",
    "plt.scatter(X_test['year'], y_test, color = 'red')\n",
    "plt.plot(X_test['year'], dt.predict(X_test[f]), 'bo')\n",
    "plt.title('Price vs year (Test set)')\n",
    "plt.xlabel('year')\n",
    "plt.ylabel('Price')\n",
    "plt.show()"
   ]
  },
  {
   "cell_type": "code",
   "execution_count": 39,
   "id": "ba88d93b",
   "metadata": {},
   "outputs": [
    {
     "data": {
      "text/plain": [
       "Text(0.5, 1.0, 'Tree. Feature Importance')"
      ]
     },
     "execution_count": 39,
     "metadata": {},
     "output_type": "execute_result"
    },
    {
     "data": {
      "image/png": "[encoded data removed]",
      "text/plain": [
       "<Figure size 720x504 with 1 Axes>"
      ]
     },
     "metadata": {
      "needs_background": "light"
     },
     "output_type": "display_data"
    }
   ],
   "source": [
    "# Features importances\n",
    "dt_imp = pd.DataFrame({'imp': dt.feature_importances_, 'col': X_train[f].columns})\n",
    "dt_imp = dt_imp.sort_values(['imp', 'col'], ascending=[True, False]).iloc[-10:]\n",
    "dt_imp.plot(kind='barh', x='col', y='imp', figsize=(10, 7), legend=None)\n",
    "plt.title('Tree. Feature Importance')"
   ]
  },
  {
   "cell_type": "markdown",
   "id": "d4e17120",
   "metadata": {},
   "source": [
    "Наиболее важный фактор согласно графику Пробег"
   ]
  },
  {
   "cell_type": "markdown",
   "id": "33b9ce37",
   "metadata": {},
   "source": [
    "# Random forest"
   ]
  },
  {
   "cell_type": "code",
   "execution_count": 40,
   "id": "48f13d43",
   "metadata": {},
   "outputs": [
    {
     "data": {
      "image/png": "[encoded data removed]",
      "text/plain": [
       "<Figure size 576x288 with 1 Axes>"
      ]
     },
     "metadata": {
      "needs_background": "light"
     },
     "output_type": "display_data"
    }
   ],
   "source": [
    "def rf_best_n_estimator(X_train, X_test, y_train, y_test, n):\n",
    "    mse_train = []\n",
    "    mse_test = []\n",
    "    for i in n:\n",
    "        rf = RandomForestRegressor(n_estimators=i, random_state=10).fit(X_train, y_train)\n",
    "        mse_train.append(mean_squared_error(y_train, rf.predict(X_train)))\n",
    "        mse_test.append(mean_squared_error(y_test, rf.predict(X_test)))\n",
    "    fig, ax = plt.subplots(figsize=(8, 4))\n",
    "    ax.plot(n, mse_train, alpha=0.5, color='blue', label='train')\n",
    "    ax.plot(n, mse_test, alpha=0.5, color='red', label='test')\n",
    "    ax.set_ylabel(\"MSE\")\n",
    "    ax.set_xlabel(\"N_estimators\")\n",
    "    \n",
    "# The optimal number of trees \n",
    "from sklearn.ensemble import RandomForestRegressor    \n",
    "rf_best_n_estimator(X_train[f], X_test[f], y_train, y_test, [5, 10, 15, 20, 25, 30, 35, 40, 45, 50])"
   ]
  },
  {
   "cell_type": "code",
   "execution_count": 41,
   "id": "8009d3a8",
   "metadata": {},
   "outputs": [
    {
     "data": {
      "image/png": "[encoded data removed]",
      "text/plain": [
       "<Figure size 576x288 with 1 Axes>"
      ]
     },
     "metadata": {
      "needs_background": "light"
     },
     "output_type": "display_data"
    }
   ],
   "source": [
    "def rf_max_leaf_nodes(X_train, X_test, y_train, y_test, n):\n",
    "    mse_train = []\n",
    "    mse_test = []\n",
    "    for i in n:\n",
    "        rf = RandomForestRegressor(n_estimators=15, max_leaf_nodes =i, random_state=10).fit(X_train, y_train)\n",
    "        mse_train.append(mean_squared_error(y_train, rf.predict(X_train)))\n",
    "        mse_test.append(mean_squared_error(y_test, rf.predict(X_test)))\n",
    "    fig, ax = plt.subplots(figsize=(8, 4))\n",
    "    ax.plot(n, mse_train, alpha=0.5, color='blue', label='train')\n",
    "    ax.plot(n, mse_test, alpha=0.5, color='red', label='test')\n",
    "    ax.set_ylabel(\"MSE\")\n",
    "    ax.set_xlabel(\"max_leaf_nodes\")\n",
    "    \n",
    "# The optimal number of max_leaf_nodes\n",
    "rf_max_leaf_nodes(X_train[f], X_test[f], y_train, y_test, [5, 10, 15, 20])"
   ]
  },
  {
   "cell_type": "code",
   "execution_count": 42,
   "id": "e2c9a223",
   "metadata": {},
   "outputs": [
    {
     "data": {
      "text/html": [
       "<div>\n",
       "<style scoped>\n",
       "    .dataframe tbody tr th:only-of-type {\n",
       "        vertical-align: middle;\n",
       "    }\n",
       "\n",
       "    .dataframe tbody tr th {\n",
       "        vertical-align: top;\n",
       "    }\n",
       "\n",
       "    .dataframe thead th {\n",
       "        text-align: right;\n",
       "    }\n",
       "</style>\n",
       "<table border=\"1\" class=\"dataframe\">\n",
       "  <thead>\n",
       "    <tr style=\"text-align: right;\">\n",
       "      <th></th>\n",
       "      <th>RMSE</th>\n",
       "      <th>R2</th>\n",
       "    </tr>\n",
       "  </thead>\n",
       "  <tbody>\n",
       "    <tr>\n",
       "      <th>Train</th>\n",
       "      <td>2454.39</td>\n",
       "      <td>0.91</td>\n",
       "    </tr>\n",
       "    <tr>\n",
       "      <th>Test</th>\n",
       "      <td>2939.19</td>\n",
       "      <td>0.82</td>\n",
       "    </tr>\n",
       "  </tbody>\n",
       "</table>\n",
       "</div>"
      ],
      "text/plain": [
       "          RMSE    R2\n",
       "Train  2454.39  0.91\n",
       "Test   2939.19  0.82"
      ]
     },
     "execution_count": 42,
     "metadata": {},
     "output_type": "execute_result"
    }
   ],
   "source": [
    "# Fitting Random Forest to the Training set\n",
    "from sklearn.ensemble import RandomForestRegressor\n",
    "rf = RandomForestRegressor(n_estimators = 15, max_leaf_nodes = 20, random_state = 10).fit(X_train[f], y_train)\n",
    "\n",
    "# Predicting the Test set results\n",
    "rf_y_pred = rf.predict(X_test[f])\n",
    "\n",
    "# Metrics\n",
    "metrics(X_train[f], X_test[f], y_train, y_test, rf_y_pred, rf).round(2)"
   ]
  },
  {
   "cell_type": "markdown",
   "id": "e8d6c92a",
   "metadata": {},
   "source": [
    "R2 увеличился"
   ]
  },
  {
   "cell_type": "code",
   "execution_count": 43,
   "id": "1a879afa",
   "metadata": {},
   "outputs": [
    {
     "data": {
      "image/png": "[encoded data removed]",
      "text/plain": [
       "<Figure size 432x288 with 1 Axes>"
      ]
     },
     "metadata": {
      "needs_background": "light"
     },
     "output_type": "display_data"
    }
   ],
   "source": [
    "# Visualising the Test set results\n",
    "plt.scatter(X_test['year'], y_test, color = 'red')\n",
    "plt.plot(X_test['year'], rf.predict(X_test[f]), 'bo')\n",
    "plt.title('Price vs year (Test set)')\n",
    "plt.xlabel('year')\n",
    "plt.ylabel('Price')\n",
    "plt.show()"
   ]
  },
  {
   "cell_type": "code",
   "execution_count": 44,
   "id": "b31d5564",
   "metadata": {},
   "outputs": [
    {
     "data": {
      "text/plain": [
       "Text(0.5, 1.0, 'Random Forest. Feature Importance')"
      ]
     },
     "execution_count": 44,
     "metadata": {},
     "output_type": "execute_result"
    },
    {
     "data": {
      "image/png": "[encoded data removed]",
      "text/plain": [
       "<Figure size 720x504 with 1 Axes>"
      ]
     },
     "metadata": {
      "needs_background": "light"
     },
     "output_type": "display_data"
    }
   ],
   "source": [
    "# Features importances\n",
    "rf_imp = pd.DataFrame({'imp': rf.feature_importances_, 'col': X_train[f].columns})\n",
    "rf_imp = rf_imp.sort_values(['imp', 'col'], ascending=[True, False]).iloc[-20:]\n",
    "rf_imp.plot(kind='barh', x='col', y='imp', figsize=(10, 7), legend=None)\n",
    "plt.title('Random Forest. Feature Importance')"
   ]
  },
  {
   "cell_type": "markdown",
   "id": "8c62d773",
   "metadata": {},
   "source": [
    "Самый значимый фактор Пробег"
   ]
  },
  {
   "cell_type": "code",
   "execution_count": 45,
   "id": "8093a833",
   "metadata": {},
   "outputs": [],
   "source": [
    "#catboost\n",
    "#! pip install catboost"
   ]
  },
  {
   "cell_type": "code",
   "execution_count": 46,
   "id": "ca09504a",
   "metadata": {},
   "outputs": [
    {
     "ename": "ModuleNotFoundError",
     "evalue": "No module named 'catboost'",
     "output_type": "error",
     "traceback": [
      "\u001b[1;31m---------------------------------------------------------------------------\u001b[0m",
      "\u001b[1;31mModuleNotFoundError\u001b[0m                       Traceback (most recent call last)",
      "\u001b[1;32m<ipython-input-46-6c17daa2d481>\u001b[0m in \u001b[0;36m<module>\u001b[1;34m\u001b[0m\n\u001b[0;32m     13\u001b[0m     \u001b[0max\u001b[0m\u001b[1;33m.\u001b[0m\u001b[0mlegend\u001b[0m\u001b[1;33m(\u001b[0m\u001b[0mframealpha\u001b[0m\u001b[1;33m=\u001b[0m\u001b[1;36m1\u001b[0m\u001b[1;33m,\u001b[0m \u001b[0mframeon\u001b[0m\u001b[1;33m=\u001b[0m\u001b[1;32mTrue\u001b[0m\u001b[1;33m)\u001b[0m\u001b[1;33m;\u001b[0m\u001b[1;33m\u001b[0m\u001b[1;33m\u001b[0m\u001b[0m\n\u001b[0;32m     14\u001b[0m \u001b[1;33m\u001b[0m\u001b[0m\n\u001b[1;32m---> 15\u001b[1;33m \u001b[1;32mfrom\u001b[0m \u001b[0mcatboost\u001b[0m \u001b[1;32mimport\u001b[0m \u001b[0mCatBoostRegressor\u001b[0m\u001b[1;33m\u001b[0m\u001b[1;33m\u001b[0m\u001b[0m\n\u001b[0m\u001b[0;32m     16\u001b[0m \u001b[0mcatboost_best_iterations\u001b[0m\u001b[1;33m(\u001b[0m\u001b[0mX_train\u001b[0m\u001b[1;33m[\u001b[0m\u001b[0mf\u001b[0m\u001b[1;33m]\u001b[0m\u001b[1;33m,\u001b[0m \u001b[0mX_test\u001b[0m\u001b[1;33m[\u001b[0m\u001b[0mf\u001b[0m\u001b[1;33m]\u001b[0m\u001b[1;33m,\u001b[0m \u001b[0my_train\u001b[0m\u001b[1;33m,\u001b[0m \u001b[0my_test\u001b[0m\u001b[1;33m,\u001b[0m \u001b[0mlist\u001b[0m\u001b[1;33m(\u001b[0m\u001b[0mrange\u001b[0m\u001b[1;33m(\u001b[0m\u001b[1;36m1\u001b[0m\u001b[1;33m,\u001b[0m\u001b[1;36m13\u001b[0m\u001b[1;33m)\u001b[0m\u001b[1;33m)\u001b[0m\u001b[1;33m)\u001b[0m\u001b[1;33m\u001b[0m\u001b[1;33m\u001b[0m\u001b[0m\n",
      "\u001b[1;31mModuleNotFoundError\u001b[0m: No module named 'catboost'"
     ]
    }
   ],
   "source": [
    "def catboost_best_iterations(X_train, X_test, y_train, y_test, n):\n",
    "    mse_train = []\n",
    "    mse_test = []\n",
    "    for i in n:\n",
    "        catboost = CatBoostRegressor(iterations=i,random_state=10,eval_metric='RMSE',loss_function='RMSE').fit(X_train, y_train,eval_set=(X_test, y_test),logging_level='Silent')\n",
    "        mse_train.append(mean_squared_error(y_train, catboost.predict(X_train)))\n",
    "        mse_test.append(mean_squared_error(y_test, catboost.predict(X_test)))\n",
    "    fig, ax = plt.subplots(figsize=(8, 4))\n",
    "    ax.plot(n, mse_train, alpha=0.5, color='blue', label='train')\n",
    "    ax.plot(n, mse_test, alpha=0.5, color='red', label='test')\n",
    "    ax.set_ylabel('\"MSE')\n",
    "    ax.set_xlabel('Iterations')\n",
    "    ax.legend(framealpha=1, frameon=True);\n",
    "    \n",
    "from catboost import CatBoostRegressor\n",
    "catboost_best_iterations(X_train[f], X_test[f], y_train, y_test, list(range(1,13)))"
   ]
  },
  {
   "cell_type": "markdown",
   "id": "a8972658",
   "metadata": {},
   "source": [
    "Random forest - лучшая модель"
   ]
  },
  {
   "cell_type": "code",
   "execution_count": 47,
   "id": "1b134dfb",
   "metadata": {},
   "outputs": [],
   "source": [
    "import pickle\n",
    "obj = {'X_train': X_train, 'X_test': X_test,'y_train': y_train,'y_test': y_test}\n",
    "output = open('merc3.pkl', 'wb')\n",
    "pickle.dump(obj, output, 2)\n",
    "output.close()"
   ]
  },
  {
   "cell_type": "code",
   "execution_count": null,
   "id": "fd74e091",
   "metadata": {},
   "outputs": [],
   "source": []
  }
 ],
 "metadata": {
  "kernelspec": {
   "display_name": "Python 3",
   "language": "python",
   "name": "python3"
  },
  "language_info": {
   "codemirror_mode": {
    "name": "ipython",
    "version": 3
   },
   "file_extension": ".py",
   "mimetype": "text/x-python",
   "name": "python",
   "nbconvert_exporter": "python",
   "pygments_lexer": "ipython3",
   "version": "3.8.8"
  }
 },
 "nbformat": 4,
 "nbformat_minor": 5
}
