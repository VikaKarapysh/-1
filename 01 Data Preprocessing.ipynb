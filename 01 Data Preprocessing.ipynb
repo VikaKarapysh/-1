{
 "cells": [
  {
   "cell_type": "code",
   "execution_count": 531,
   "id": "8b61267d",
   "metadata": {},
   "outputs": [],
   "source": [
    "import pandas as pd\n",
    "import numpy as np\n",
    "\n",
    "%matplotlib inline\n",
    "import matplotlib\n",
    "import matplotlib.pyplot as plt\n",
    "import seaborn as sns\n",
    "\n",
    "import zipfile\n",
    "\n",
    "import os\n",
    "from sklearn.model_selection import train_test_split \n",
    "\n",
    "for dirname, _, filenames in os.walk('merc_price(2020) data.csv'):\n",
    "    for filename in filenames:\n",
    "        print(os.path.join(dirname, filename))"
   ]
  },
  {
   "cell_type": "code",
   "execution_count": 532,
   "id": "658f4427",
   "metadata": {},
   "outputs": [
    {
     "data": {
      "text/html": [
       "<div>\n",
       "<style scoped>\n",
       "    .dataframe tbody tr th:only-of-type {\n",
       "        vertical-align: middle;\n",
       "    }\n",
       "\n",
       "    .dataframe tbody tr th {\n",
       "        vertical-align: top;\n",
       "    }\n",
       "\n",
       "    .dataframe thead th {\n",
       "        text-align: right;\n",
       "    }\n",
       "</style>\n",
       "<table border=\"1\" class=\"dataframe\">\n",
       "  <thead>\n",
       "    <tr style=\"text-align: right;\">\n",
       "      <th></th>\n",
       "      <th>model</th>\n",
       "      <th>year</th>\n",
       "      <th>price</th>\n",
       "      <th>type</th>\n",
       "      <th>distance</th>\n",
       "      <th>fuel</th>\n",
       "      <th>tax</th>\n",
       "      <th>miles per galoon</th>\n",
       "      <th>size</th>\n",
       "    </tr>\n",
       "  </thead>\n",
       "  <tbody>\n",
       "    <tr>\n",
       "      <th>0</th>\n",
       "      <td>A Class</td>\n",
       "      <td>2019</td>\n",
       "      <td>21998</td>\n",
       "      <td>Semi-Auto</td>\n",
       "      <td>11578</td>\n",
       "      <td>Petrol</td>\n",
       "      <td>150</td>\n",
       "      <td>53.3</td>\n",
       "      <td>1.3</td>\n",
       "    </tr>\n",
       "    <tr>\n",
       "      <th>1</th>\n",
       "      <td>A Class</td>\n",
       "      <td>2014</td>\n",
       "      <td>10498</td>\n",
       "      <td>Manual</td>\n",
       "      <td>63177</td>\n",
       "      <td>Diesel</td>\n",
       "      <td>30</td>\n",
       "      <td>64.2</td>\n",
       "      <td>2.1</td>\n",
       "    </tr>\n",
       "    <tr>\n",
       "      <th>2</th>\n",
       "      <td>A Class</td>\n",
       "      <td>2016</td>\n",
       "      <td>12498</td>\n",
       "      <td>Manual</td>\n",
       "      <td>54544</td>\n",
       "      <td>Diesel</td>\n",
       "      <td>20</td>\n",
       "      <td>72.4</td>\n",
       "      <td>1.5</td>\n",
       "    </tr>\n",
       "    <tr>\n",
       "      <th>3</th>\n",
       "      <td>A Class</td>\n",
       "      <td>2018</td>\n",
       "      <td>17498</td>\n",
       "      <td>Manual</td>\n",
       "      <td>8601</td>\n",
       "      <td>Petrol</td>\n",
       "      <td>145</td>\n",
       "      <td>51.4</td>\n",
       "      <td>1.6</td>\n",
       "    </tr>\n",
       "    <tr>\n",
       "      <th>4</th>\n",
       "      <td>A Class</td>\n",
       "      <td>2017</td>\n",
       "      <td>16798</td>\n",
       "      <td>Manual</td>\n",
       "      <td>24388</td>\n",
       "      <td>Diesel</td>\n",
       "      <td>20</td>\n",
       "      <td>68.9</td>\n",
       "      <td>1.5</td>\n",
       "    </tr>\n",
       "    <tr>\n",
       "      <th>...</th>\n",
       "      <td>...</td>\n",
       "      <td>...</td>\n",
       "      <td>...</td>\n",
       "      <td>...</td>\n",
       "      <td>...</td>\n",
       "      <td>...</td>\n",
       "      <td>...</td>\n",
       "      <td>...</td>\n",
       "      <td>...</td>\n",
       "    </tr>\n",
       "    <tr>\n",
       "      <th>439</th>\n",
       "      <td>V Class</td>\n",
       "      <td>2016</td>\n",
       "      <td>26490</td>\n",
       "      <td>Semi-Auto</td>\n",
       "      <td>32494</td>\n",
       "      <td>Diesel</td>\n",
       "      <td>200</td>\n",
       "      <td>45.6</td>\n",
       "      <td>2.2</td>\n",
       "    </tr>\n",
       "    <tr>\n",
       "      <th>440</th>\n",
       "      <td>V Class</td>\n",
       "      <td>2018</td>\n",
       "      <td>19498</td>\n",
       "      <td>Manual</td>\n",
       "      <td>24164</td>\n",
       "      <td>Diesel</td>\n",
       "      <td>145</td>\n",
       "      <td>46.3</td>\n",
       "      <td>2.1</td>\n",
       "    </tr>\n",
       "    <tr>\n",
       "      <th>441</th>\n",
       "      <td>V Class</td>\n",
       "      <td>2018</td>\n",
       "      <td>20498</td>\n",
       "      <td>Manual</td>\n",
       "      <td>25254</td>\n",
       "      <td>Diesel</td>\n",
       "      <td>145</td>\n",
       "      <td>46.3</td>\n",
       "      <td>2.1</td>\n",
       "    </tr>\n",
       "    <tr>\n",
       "      <th>442</th>\n",
       "      <td>V Class</td>\n",
       "      <td>2018</td>\n",
       "      <td>20498</td>\n",
       "      <td>Manual</td>\n",
       "      <td>20841</td>\n",
       "      <td>Diesel</td>\n",
       "      <td>145</td>\n",
       "      <td>46.3</td>\n",
       "      <td>2.1</td>\n",
       "    </tr>\n",
       "    <tr>\n",
       "      <th>443</th>\n",
       "      <td>V Class</td>\n",
       "      <td>2018</td>\n",
       "      <td>20498</td>\n",
       "      <td>Manual</td>\n",
       "      <td>22033</td>\n",
       "      <td>Diesel</td>\n",
       "      <td>145</td>\n",
       "      <td>46.3</td>\n",
       "      <td>2.1</td>\n",
       "    </tr>\n",
       "  </tbody>\n",
       "</table>\n",
       "<p>444 rows × 9 columns</p>\n",
       "</div>"
      ],
      "text/plain": [
       "       model  year  price       type  distance    fuel  tax  miles per galoon  \\\n",
       "0    A Class  2019  21998  Semi-Auto     11578  Petrol  150              53.3   \n",
       "1    A Class  2014  10498     Manual     63177  Diesel   30              64.2   \n",
       "2    A Class  2016  12498     Manual     54544  Diesel   20              72.4   \n",
       "3    A Class  2018  17498     Manual      8601  Petrol  145              51.4   \n",
       "4    A Class  2017  16798     Manual     24388  Diesel   20              68.9   \n",
       "..       ...   ...    ...        ...       ...     ...  ...               ...   \n",
       "439  V Class  2016  26490  Semi-Auto     32494  Diesel  200              45.6   \n",
       "440  V Class  2018  19498     Manual     24164  Diesel  145              46.3   \n",
       "441  V Class  2018  20498     Manual     25254  Diesel  145              46.3   \n",
       "442  V Class  2018  20498     Manual     20841  Diesel  145              46.3   \n",
       "443  V Class  2018  20498     Manual     22033  Diesel  145              46.3   \n",
       "\n",
       "     size  \n",
       "0     1.3  \n",
       "1     2.1  \n",
       "2     1.5  \n",
       "3     1.6  \n",
       "4     1.5  \n",
       "..    ...  \n",
       "439   2.2  \n",
       "440   2.1  \n",
       "441   2.1  \n",
       "442   2.1  \n",
       "443   2.1  \n",
       "\n",
       "[444 rows x 9 columns]"
      ]
     },
     "execution_count": 532,
     "metadata": {},
     "output_type": "execute_result"
    }
   ],
   "source": [
    "df = pd.read_excel('merc.xlsx', sheet_name='merc')\n",
    "df"
   ]
  },
  {
   "cell_type": "code",
   "execution_count": 533,
   "id": "e6073eb3",
   "metadata": {},
   "outputs": [
    {
     "name": "stdout",
     "output_type": "stream",
     "text": [
      "<class 'pandas.core.frame.DataFrame'>\n",
      "RangeIndex: 444 entries, 0 to 443\n",
      "Data columns (total 9 columns):\n",
      " #   Column            Non-Null Count  Dtype  \n",
      "---  ------            --------------  -----  \n",
      " 0   model             444 non-null    object \n",
      " 1   year              444 non-null    int64  \n",
      " 2   price             444 non-null    int64  \n",
      " 3   type              444 non-null    object \n",
      " 4   distance          444 non-null    int64  \n",
      " 5   fuel              444 non-null    object \n",
      " 6   tax               444 non-null    int64  \n",
      " 7   miles per galoon  444 non-null    float64\n",
      " 8   size              444 non-null    float64\n",
      "dtypes: float64(2), int64(4), object(3)\n",
      "memory usage: 31.3+ KB\n"
     ]
    }
   ],
   "source": [
    "df.info()"
   ]
  },
  {
   "cell_type": "markdown",
   "id": "7dcc5f33",
   "metadata": {},
   "source": [
    "В базе данных нет пропущенных знвчений"
   ]
  },
  {
   "cell_type": "code",
   "execution_count": 535,
   "id": "2877f2ce",
   "metadata": {},
   "outputs": [
    {
     "data": {
      "text/plain": [
       "model               0\n",
       "year                0\n",
       "price               0\n",
       "type                0\n",
       "distance            0\n",
       "fuel                0\n",
       "tax                 0\n",
       "miles per galoon    0\n",
       "size                0\n",
       "dtype: int64"
      ]
     },
     "execution_count": 535,
     "metadata": {},
     "output_type": "execute_result"
    }
   ],
   "source": [
    "df.isnull().sum()"
   ]
  },
  {
   "cell_type": "code",
   "execution_count": 536,
   "id": "2f0200e1",
   "metadata": {},
   "outputs": [
    {
     "data": {
      "text/plain": [
       "model                object\n",
       "year                  int64\n",
       "price                 int64\n",
       "type                 object\n",
       "distance              int64\n",
       "fuel                 object\n",
       "tax                   int64\n",
       "miles per galoon    float64\n",
       "size                float64\n",
       "dtype: object"
      ]
     },
     "execution_count": 536,
     "metadata": {},
     "output_type": "execute_result"
    }
   ],
   "source": [
    "df.dtypes"
   ]
  },
  {
   "cell_type": "code",
   "execution_count": 537,
   "id": "60356b26",
   "metadata": {},
   "outputs": [
    {
     "data": {
      "text/html": [
       "<div>\n",
       "<style scoped>\n",
       "    .dataframe tbody tr th:only-of-type {\n",
       "        vertical-align: middle;\n",
       "    }\n",
       "\n",
       "    .dataframe tbody tr th {\n",
       "        vertical-align: top;\n",
       "    }\n",
       "\n",
       "    .dataframe thead th {\n",
       "        text-align: right;\n",
       "    }\n",
       "</style>\n",
       "<table border=\"1\" class=\"dataframe\">\n",
       "  <thead>\n",
       "    <tr style=\"text-align: right;\">\n",
       "      <th></th>\n",
       "      <th>year</th>\n",
       "      <th>price</th>\n",
       "      <th>distance</th>\n",
       "      <th>tax</th>\n",
       "      <th>miles per galoon</th>\n",
       "      <th>size</th>\n",
       "    </tr>\n",
       "  </thead>\n",
       "  <tbody>\n",
       "    <tr>\n",
       "      <th>count</th>\n",
       "      <td>444.000000</td>\n",
       "      <td>444.000000</td>\n",
       "      <td>444.000000</td>\n",
       "      <td>444.000000</td>\n",
       "      <td>444.000000</td>\n",
       "      <td>444.000000</td>\n",
       "    </tr>\n",
       "    <tr>\n",
       "      <th>mean</th>\n",
       "      <td>2016.594595</td>\n",
       "      <td>22308.448198</td>\n",
       "      <td>25755.344595</td>\n",
       "      <td>128.716216</td>\n",
       "      <td>56.712387</td>\n",
       "      <td>2.102252</td>\n",
       "    </tr>\n",
       "    <tr>\n",
       "      <th>std</th>\n",
       "      <td>2.238100</td>\n",
       "      <td>8470.098592</td>\n",
       "      <td>19756.933182</td>\n",
       "      <td>64.436580</td>\n",
       "      <td>13.638561</td>\n",
       "      <td>0.478046</td>\n",
       "    </tr>\n",
       "    <tr>\n",
       "      <th>min</th>\n",
       "      <td>2004.000000</td>\n",
       "      <td>2880.000000</td>\n",
       "      <td>17.000000</td>\n",
       "      <td>0.000000</td>\n",
       "      <td>28.000000</td>\n",
       "      <td>1.300000</td>\n",
       "    </tr>\n",
       "    <tr>\n",
       "      <th>25%</th>\n",
       "      <td>2016.000000</td>\n",
       "      <td>17493.500000</td>\n",
       "      <td>11492.500000</td>\n",
       "      <td>125.000000</td>\n",
       "      <td>47.900000</td>\n",
       "      <td>2.000000</td>\n",
       "    </tr>\n",
       "    <tr>\n",
       "      <th>50%</th>\n",
       "      <td>2017.000000</td>\n",
       "      <td>20824.500000</td>\n",
       "      <td>22909.000000</td>\n",
       "      <td>145.000000</td>\n",
       "      <td>56.500000</td>\n",
       "      <td>2.100000</td>\n",
       "    </tr>\n",
       "    <tr>\n",
       "      <th>75%</th>\n",
       "      <td>2018.000000</td>\n",
       "      <td>26983.750000</td>\n",
       "      <td>34377.000000</td>\n",
       "      <td>146.250000</td>\n",
       "      <td>64.200000</td>\n",
       "      <td>2.100000</td>\n",
       "    </tr>\n",
       "    <tr>\n",
       "      <th>max</th>\n",
       "      <td>2020.000000</td>\n",
       "      <td>64998.000000</td>\n",
       "      <td>130000.000000</td>\n",
       "      <td>330.000000</td>\n",
       "      <td>134.500000</td>\n",
       "      <td>4.700000</td>\n",
       "    </tr>\n",
       "  </tbody>\n",
       "</table>\n",
       "</div>"
      ],
      "text/plain": [
       "              year         price       distance         tax  miles per galoon  \\\n",
       "count   444.000000    444.000000     444.000000  444.000000        444.000000   \n",
       "mean   2016.594595  22308.448198   25755.344595  128.716216         56.712387   \n",
       "std       2.238100   8470.098592   19756.933182   64.436580         13.638561   \n",
       "min    2004.000000   2880.000000      17.000000    0.000000         28.000000   \n",
       "25%    2016.000000  17493.500000   11492.500000  125.000000         47.900000   \n",
       "50%    2017.000000  20824.500000   22909.000000  145.000000         56.500000   \n",
       "75%    2018.000000  26983.750000   34377.000000  146.250000         64.200000   \n",
       "max    2020.000000  64998.000000  130000.000000  330.000000        134.500000   \n",
       "\n",
       "             size  \n",
       "count  444.000000  \n",
       "mean     2.102252  \n",
       "std      0.478046  \n",
       "min      1.300000  \n",
       "25%      2.000000  \n",
       "50%      2.100000  \n",
       "75%      2.100000  \n",
       "max      4.700000  "
      ]
     },
     "execution_count": 537,
     "metadata": {},
     "output_type": "execute_result"
    }
   ],
   "source": [
    "df.describe()"
   ]
  },
  {
   "cell_type": "code",
   "execution_count": 538,
   "id": "f1c356fc",
   "metadata": {},
   "outputs": [
    {
     "data": {
      "text/plain": [
       "Index(['model', 'year', 'price', 'type', 'distance', 'fuel', 'tax',\n",
       "       'miles per galoon', 'size'],\n",
       "      dtype='object')"
      ]
     },
     "execution_count": 538,
     "metadata": {},
     "output_type": "execute_result"
    }
   ],
   "source": [
    "df.columns"
   ]
  },
  {
   "cell_type": "code",
   "execution_count": 539,
   "id": "0567eac2",
   "metadata": {},
   "outputs": [],
   "source": [
    "df.columns = ['model', 'year', 'price', 'type', 'distance', 'fuel', 'tax',\n",
    "       'miles per galoon', 'size']"
   ]
  },
  {
   "cell_type": "code",
   "execution_count": 540,
   "id": "0af5825d",
   "metadata": {},
   "outputs": [],
   "source": [
    "def outliers(df):\n",
    "    num_var = list(df._get_numeric_data().columns)\n",
    "    for col_names in num_var:\n",
    "        df[col_names] = df[col_names].apply(lambda y: df[col_names].mean()-3*df[col_names].std()\n",
    "                            if y < df[col_names].mean()-3*df[col_names].std() else y)\n",
    "        df[col_names] = df[col_names].apply(lambda y: df[col_names].mean()+3*df[col_names].std()\n",
    "                            if y > df[col_names].mean()+3*df[col_names].std() else y)\n",
    "    return(df)"
   ]
  },
  {
   "cell_type": "code",
   "execution_count": 541,
   "id": "bdb873d5",
   "metadata": {},
   "outputs": [
    {
     "data": {
      "text/html": [
       "<div>\n",
       "<style scoped>\n",
       "    .dataframe tbody tr th:only-of-type {\n",
       "        vertical-align: middle;\n",
       "    }\n",
       "\n",
       "    .dataframe tbody tr th {\n",
       "        vertical-align: top;\n",
       "    }\n",
       "\n",
       "    .dataframe thead th {\n",
       "        text-align: right;\n",
       "    }\n",
       "</style>\n",
       "<table border=\"1\" class=\"dataframe\">\n",
       "  <thead>\n",
       "    <tr style=\"text-align: right;\">\n",
       "      <th></th>\n",
       "      <th>year</th>\n",
       "      <th>price</th>\n",
       "      <th>distance</th>\n",
       "      <th>tax</th>\n",
       "      <th>miles per galoon</th>\n",
       "      <th>size</th>\n",
       "    </tr>\n",
       "  </thead>\n",
       "  <tbody>\n",
       "    <tr>\n",
       "      <th>count</th>\n",
       "      <td>444.000000</td>\n",
       "      <td>444.000000</td>\n",
       "      <td>444.000000</td>\n",
       "      <td>444.000000</td>\n",
       "      <td>444.000000</td>\n",
       "      <td>444.000000</td>\n",
       "    </tr>\n",
       "    <tr>\n",
       "      <th>mean</th>\n",
       "      <td>2016.637752</td>\n",
       "      <td>22199.329297</td>\n",
       "      <td>25467.468489</td>\n",
       "      <td>128.691558</td>\n",
       "      <td>56.240469</td>\n",
       "      <td>2.097011</td>\n",
       "    </tr>\n",
       "    <tr>\n",
       "      <th>std</th>\n",
       "      <td>2.065282</td>\n",
       "      <td>8053.960267</td>\n",
       "      <td>18645.395418</td>\n",
       "      <td>64.361121</td>\n",
       "      <td>11.415221</td>\n",
       "      <td>0.455323</td>\n",
       "    </tr>\n",
       "    <tr>\n",
       "      <th>min</th>\n",
       "      <td>2009.880295</td>\n",
       "      <td>2880.000000</td>\n",
       "      <td>17.000000</td>\n",
       "      <td>0.000000</td>\n",
       "      <td>28.000000</td>\n",
       "      <td>1.300000</td>\n",
       "    </tr>\n",
       "    <tr>\n",
       "      <th>25%</th>\n",
       "      <td>2016.000000</td>\n",
       "      <td>17493.500000</td>\n",
       "      <td>11492.500000</td>\n",
       "      <td>125.000000</td>\n",
       "      <td>47.900000</td>\n",
       "      <td>2.000000</td>\n",
       "    </tr>\n",
       "    <tr>\n",
       "      <th>50%</th>\n",
       "      <td>2017.000000</td>\n",
       "      <td>20824.500000</td>\n",
       "      <td>22909.000000</td>\n",
       "      <td>145.000000</td>\n",
       "      <td>56.500000</td>\n",
       "      <td>2.100000</td>\n",
       "    </tr>\n",
       "    <tr>\n",
       "      <th>75%</th>\n",
       "      <td>2018.000000</td>\n",
       "      <td>26983.750000</td>\n",
       "      <td>34377.000000</td>\n",
       "      <td>146.250000</td>\n",
       "      <td>64.200000</td>\n",
       "      <td>2.100000</td>\n",
       "    </tr>\n",
       "    <tr>\n",
       "      <th>max</th>\n",
       "      <td>2020.000000</td>\n",
       "      <td>47718.743976</td>\n",
       "      <td>85026.144142</td>\n",
       "      <td>322.025955</td>\n",
       "      <td>97.628070</td>\n",
       "      <td>3.536389</td>\n",
       "    </tr>\n",
       "  </tbody>\n",
       "</table>\n",
       "</div>"
      ],
      "text/plain": [
       "              year         price      distance         tax  miles per galoon  \\\n",
       "count   444.000000    444.000000    444.000000  444.000000        444.000000   \n",
       "mean   2016.637752  22199.329297  25467.468489  128.691558         56.240469   \n",
       "std       2.065282   8053.960267  18645.395418   64.361121         11.415221   \n",
       "min    2009.880295   2880.000000     17.000000    0.000000         28.000000   \n",
       "25%    2016.000000  17493.500000  11492.500000  125.000000         47.900000   \n",
       "50%    2017.000000  20824.500000  22909.000000  145.000000         56.500000   \n",
       "75%    2018.000000  26983.750000  34377.000000  146.250000         64.200000   \n",
       "max    2020.000000  47718.743976  85026.144142  322.025955         97.628070   \n",
       "\n",
       "             size  \n",
       "count  444.000000  \n",
       "mean     2.097011  \n",
       "std      0.455323  \n",
       "min      1.300000  \n",
       "25%      2.000000  \n",
       "50%      2.100000  \n",
       "75%      2.100000  \n",
       "max      3.536389  "
      ]
     },
     "execution_count": 541,
     "metadata": {},
     "output_type": "execute_result"
    }
   ],
   "source": [
    "df = outliers(df)\n",
    "df.describe()"
   ]
  },
  {
   "cell_type": "code",
   "execution_count": 542,
   "id": "c9930baf",
   "metadata": {},
   "outputs": [
    {
     "data": {
      "text/plain": [
       "(444, 9)"
      ]
     },
     "execution_count": 542,
     "metadata": {},
     "output_type": "execute_result"
    }
   ],
   "source": [
    "df.shape"
   ]
  },
  {
   "cell_type": "code",
   "execution_count": 543,
   "id": "c6c873f9",
   "metadata": {},
   "outputs": [
    {
     "data": {
      "text/plain": [
       "3"
      ]
     },
     "execution_count": 543,
     "metadata": {},
     "output_type": "execute_result"
    }
   ],
   "source": [
    "df['type'].nunique()"
   ]
  },
  {
   "cell_type": "code",
   "execution_count": 544,
   "id": "9362ab80",
   "metadata": {},
   "outputs": [
    {
     "name": "stdout",
     "output_type": "stream",
     "text": [
      "['Semi-Auto' 'Manual' 'Automatic']\n",
      "['Semi-Auto' 'Manual' 'Automatic']\n",
      "['Semi-Auto' 'Manual' 'Automatic']\n",
      "['Semi-Auto' 'Manual' 'Automatic']\n",
      "['Semi-Auto' 'Manual' 'Automatic']\n",
      "['Semi-Auto' 'Manual' 'Automatic']\n",
      "['Semi-Auto' 'Manual' 'Automatic']\n",
      "['Semi-Auto' 'Manual' 'Automatic']\n",
      "['Semi-Auto' 'Manual' 'Automatic']\n"
     ]
    }
   ],
   "source": [
    "for col in df:\n",
    "    print(df['type'].unique())"
   ]
  },
  {
   "cell_type": "code",
   "execution_count": 546,
   "id": "c362619c",
   "metadata": {},
   "outputs": [
    {
     "data": {
      "text/html": [
       "<div>\n",
       "<style scoped>\n",
       "    .dataframe tbody tr th:only-of-type {\n",
       "        vertical-align: middle;\n",
       "    }\n",
       "\n",
       "    .dataframe tbody tr th {\n",
       "        vertical-align: top;\n",
       "    }\n",
       "\n",
       "    .dataframe thead th {\n",
       "        text-align: right;\n",
       "    }\n",
       "</style>\n",
       "<table border=\"1\" class=\"dataframe\">\n",
       "  <thead>\n",
       "    <tr style=\"text-align: right;\">\n",
       "      <th></th>\n",
       "      <th>model</th>\n",
       "      <th>year</th>\n",
       "      <th>price</th>\n",
       "      <th>type</th>\n",
       "      <th>distance</th>\n",
       "      <th>fuel</th>\n",
       "      <th>tax</th>\n",
       "      <th>miles per galoon</th>\n",
       "      <th>size</th>\n",
       "    </tr>\n",
       "  </thead>\n",
       "  <tbody>\n",
       "    <tr>\n",
       "      <th>0</th>\n",
       "      <td>A Class</td>\n",
       "      <td>2019.0</td>\n",
       "      <td>21998.0</td>\n",
       "      <td>2</td>\n",
       "      <td>11578.0</td>\n",
       "      <td>Petrol</td>\n",
       "      <td>150.0</td>\n",
       "      <td>53.3</td>\n",
       "      <td>1.3</td>\n",
       "    </tr>\n",
       "    <tr>\n",
       "      <th>1</th>\n",
       "      <td>A Class</td>\n",
       "      <td>2014.0</td>\n",
       "      <td>10498.0</td>\n",
       "      <td>1</td>\n",
       "      <td>63177.0</td>\n",
       "      <td>Diesel</td>\n",
       "      <td>30.0</td>\n",
       "      <td>64.2</td>\n",
       "      <td>2.1</td>\n",
       "    </tr>\n",
       "    <tr>\n",
       "      <th>2</th>\n",
       "      <td>A Class</td>\n",
       "      <td>2016.0</td>\n",
       "      <td>12498.0</td>\n",
       "      <td>1</td>\n",
       "      <td>54544.0</td>\n",
       "      <td>Diesel</td>\n",
       "      <td>20.0</td>\n",
       "      <td>72.4</td>\n",
       "      <td>1.5</td>\n",
       "    </tr>\n",
       "    <tr>\n",
       "      <th>3</th>\n",
       "      <td>A Class</td>\n",
       "      <td>2018.0</td>\n",
       "      <td>17498.0</td>\n",
       "      <td>1</td>\n",
       "      <td>8601.0</td>\n",
       "      <td>Petrol</td>\n",
       "      <td>145.0</td>\n",
       "      <td>51.4</td>\n",
       "      <td>1.6</td>\n",
       "    </tr>\n",
       "    <tr>\n",
       "      <th>4</th>\n",
       "      <td>A Class</td>\n",
       "      <td>2017.0</td>\n",
       "      <td>16798.0</td>\n",
       "      <td>1</td>\n",
       "      <td>24388.0</td>\n",
       "      <td>Diesel</td>\n",
       "      <td>20.0</td>\n",
       "      <td>68.9</td>\n",
       "      <td>1.5</td>\n",
       "    </tr>\n",
       "    <tr>\n",
       "      <th>5</th>\n",
       "      <td>A Class</td>\n",
       "      <td>2017.0</td>\n",
       "      <td>15498.0</td>\n",
       "      <td>1</td>\n",
       "      <td>35295.0</td>\n",
       "      <td>Diesel</td>\n",
       "      <td>20.0</td>\n",
       "      <td>68.9</td>\n",
       "      <td>1.5</td>\n",
       "    </tr>\n",
       "    <tr>\n",
       "      <th>6</th>\n",
       "      <td>A Class</td>\n",
       "      <td>2019.0</td>\n",
       "      <td>18241.0</td>\n",
       "      <td>0</td>\n",
       "      <td>15722.0</td>\n",
       "      <td>Diesel</td>\n",
       "      <td>145.0</td>\n",
       "      <td>65.7</td>\n",
       "      <td>1.5</td>\n",
       "    </tr>\n",
       "    <tr>\n",
       "      <th>7</th>\n",
       "      <td>A Class</td>\n",
       "      <td>2018.0</td>\n",
       "      <td>17498.0</td>\n",
       "      <td>2</td>\n",
       "      <td>15597.0</td>\n",
       "      <td>Diesel</td>\n",
       "      <td>145.0</td>\n",
       "      <td>68.9</td>\n",
       "      <td>2.1</td>\n",
       "    </tr>\n",
       "    <tr>\n",
       "      <th>8</th>\n",
       "      <td>A Class</td>\n",
       "      <td>2013.0</td>\n",
       "      <td>11998.0</td>\n",
       "      <td>1</td>\n",
       "      <td>13680.0</td>\n",
       "      <td>Petrol</td>\n",
       "      <td>125.0</td>\n",
       "      <td>51.4</td>\n",
       "      <td>1.6</td>\n",
       "    </tr>\n",
       "    <tr>\n",
       "      <th>9</th>\n",
       "      <td>A Class</td>\n",
       "      <td>2020.0</td>\n",
       "      <td>28128.0</td>\n",
       "      <td>0</td>\n",
       "      <td>2563.0</td>\n",
       "      <td>Petrol</td>\n",
       "      <td>145.0</td>\n",
       "      <td>47.9</td>\n",
       "      <td>1.3</td>\n",
       "    </tr>\n",
       "  </tbody>\n",
       "</table>\n",
       "</div>"
      ],
      "text/plain": [
       "     model    year    price  type  distance    fuel    tax  miles per galoon  \\\n",
       "0  A Class  2019.0  21998.0     2   11578.0  Petrol  150.0              53.3   \n",
       "1  A Class  2014.0  10498.0     1   63177.0  Diesel   30.0              64.2   \n",
       "2  A Class  2016.0  12498.0     1   54544.0  Diesel   20.0              72.4   \n",
       "3  A Class  2018.0  17498.0     1    8601.0  Petrol  145.0              51.4   \n",
       "4  A Class  2017.0  16798.0     1   24388.0  Diesel   20.0              68.9   \n",
       "5  A Class  2017.0  15498.0     1   35295.0  Diesel   20.0              68.9   \n",
       "6  A Class  2019.0  18241.0     0   15722.0  Diesel  145.0              65.7   \n",
       "7  A Class  2018.0  17498.0     2   15597.0  Diesel  145.0              68.9   \n",
       "8  A Class  2013.0  11998.0     1   13680.0  Petrol  125.0              51.4   \n",
       "9  A Class  2020.0  28128.0     0    2563.0  Petrol  145.0              47.9   \n",
       "\n",
       "   size  \n",
       "0   1.3  \n",
       "1   2.1  \n",
       "2   1.5  \n",
       "3   1.6  \n",
       "4   1.5  \n",
       "5   1.5  \n",
       "6   1.5  \n",
       "7   2.1  \n",
       "8   1.6  \n",
       "9   1.3  "
      ]
     },
     "execution_count": 546,
     "metadata": {},
     "output_type": "execute_result"
    }
   ],
   "source": [
    "#encoding transmission\n",
    "from sklearn import preprocessing\n",
    "df['type'] = preprocessing.LabelEncoder().fit_transform(df['type'])\n",
    "df.head(10)"
   ]
  },
  {
   "cell_type": "markdown",
   "id": "2ab12fbe",
   "metadata": {},
   "source": [
    "К числовому формату привели фактор type"
   ]
  },
  {
   "cell_type": "code",
   "execution_count": 547,
   "id": "182f09a3",
   "metadata": {},
   "outputs": [
    {
     "data": {
      "text/plain": [
       "3"
      ]
     },
     "execution_count": 547,
     "metadata": {},
     "output_type": "execute_result"
    }
   ],
   "source": [
    "df['fuel'].nunique()"
   ]
  },
  {
   "cell_type": "code",
   "execution_count": 548,
   "id": "33a55ab0",
   "metadata": {},
   "outputs": [
    {
     "name": "stdout",
     "output_type": "stream",
     "text": [
      "['Petrol' 'Diesel' 'Hybrid']\n",
      "['Petrol' 'Diesel' 'Hybrid']\n",
      "['Petrol' 'Diesel' 'Hybrid']\n",
      "['Petrol' 'Diesel' 'Hybrid']\n",
      "['Petrol' 'Diesel' 'Hybrid']\n",
      "['Petrol' 'Diesel' 'Hybrid']\n",
      "['Petrol' 'Diesel' 'Hybrid']\n",
      "['Petrol' 'Diesel' 'Hybrid']\n",
      "['Petrol' 'Diesel' 'Hybrid']\n"
     ]
    }
   ],
   "source": [
    "for col in df:\n",
    "    print(df['fuel'].unique())"
   ]
  },
  {
   "cell_type": "code",
   "execution_count": 549,
   "id": "0b692a96",
   "metadata": {},
   "outputs": [
    {
     "data": {
      "text/html": [
       "<div>\n",
       "<style scoped>\n",
       "    .dataframe tbody tr th:only-of-type {\n",
       "        vertical-align: middle;\n",
       "    }\n",
       "\n",
       "    .dataframe tbody tr th {\n",
       "        vertical-align: top;\n",
       "    }\n",
       "\n",
       "    .dataframe thead th {\n",
       "        text-align: right;\n",
       "    }\n",
       "</style>\n",
       "<table border=\"1\" class=\"dataframe\">\n",
       "  <thead>\n",
       "    <tr style=\"text-align: right;\">\n",
       "      <th></th>\n",
       "      <th>model</th>\n",
       "      <th>year</th>\n",
       "      <th>price</th>\n",
       "      <th>type</th>\n",
       "      <th>distance</th>\n",
       "      <th>fuel</th>\n",
       "      <th>tax</th>\n",
       "      <th>miles per galoon</th>\n",
       "      <th>size</th>\n",
       "    </tr>\n",
       "  </thead>\n",
       "  <tbody>\n",
       "    <tr>\n",
       "      <th>0</th>\n",
       "      <td>A Class</td>\n",
       "      <td>2019.0</td>\n",
       "      <td>21998.0</td>\n",
       "      <td>2</td>\n",
       "      <td>11578.0</td>\n",
       "      <td>2</td>\n",
       "      <td>150.0</td>\n",
       "      <td>53.3</td>\n",
       "      <td>1.3</td>\n",
       "    </tr>\n",
       "    <tr>\n",
       "      <th>1</th>\n",
       "      <td>A Class</td>\n",
       "      <td>2014.0</td>\n",
       "      <td>10498.0</td>\n",
       "      <td>1</td>\n",
       "      <td>63177.0</td>\n",
       "      <td>0</td>\n",
       "      <td>30.0</td>\n",
       "      <td>64.2</td>\n",
       "      <td>2.1</td>\n",
       "    </tr>\n",
       "    <tr>\n",
       "      <th>2</th>\n",
       "      <td>A Class</td>\n",
       "      <td>2016.0</td>\n",
       "      <td>12498.0</td>\n",
       "      <td>1</td>\n",
       "      <td>54544.0</td>\n",
       "      <td>0</td>\n",
       "      <td>20.0</td>\n",
       "      <td>72.4</td>\n",
       "      <td>1.5</td>\n",
       "    </tr>\n",
       "    <tr>\n",
       "      <th>3</th>\n",
       "      <td>A Class</td>\n",
       "      <td>2018.0</td>\n",
       "      <td>17498.0</td>\n",
       "      <td>1</td>\n",
       "      <td>8601.0</td>\n",
       "      <td>2</td>\n",
       "      <td>145.0</td>\n",
       "      <td>51.4</td>\n",
       "      <td>1.6</td>\n",
       "    </tr>\n",
       "    <tr>\n",
       "      <th>4</th>\n",
       "      <td>A Class</td>\n",
       "      <td>2017.0</td>\n",
       "      <td>16798.0</td>\n",
       "      <td>1</td>\n",
       "      <td>24388.0</td>\n",
       "      <td>0</td>\n",
       "      <td>20.0</td>\n",
       "      <td>68.9</td>\n",
       "      <td>1.5</td>\n",
       "    </tr>\n",
       "    <tr>\n",
       "      <th>5</th>\n",
       "      <td>A Class</td>\n",
       "      <td>2017.0</td>\n",
       "      <td>15498.0</td>\n",
       "      <td>1</td>\n",
       "      <td>35295.0</td>\n",
       "      <td>0</td>\n",
       "      <td>20.0</td>\n",
       "      <td>68.9</td>\n",
       "      <td>1.5</td>\n",
       "    </tr>\n",
       "    <tr>\n",
       "      <th>6</th>\n",
       "      <td>A Class</td>\n",
       "      <td>2019.0</td>\n",
       "      <td>18241.0</td>\n",
       "      <td>0</td>\n",
       "      <td>15722.0</td>\n",
       "      <td>0</td>\n",
       "      <td>145.0</td>\n",
       "      <td>65.7</td>\n",
       "      <td>1.5</td>\n",
       "    </tr>\n",
       "    <tr>\n",
       "      <th>7</th>\n",
       "      <td>A Class</td>\n",
       "      <td>2018.0</td>\n",
       "      <td>17498.0</td>\n",
       "      <td>2</td>\n",
       "      <td>15597.0</td>\n",
       "      <td>0</td>\n",
       "      <td>145.0</td>\n",
       "      <td>68.9</td>\n",
       "      <td>2.1</td>\n",
       "    </tr>\n",
       "    <tr>\n",
       "      <th>8</th>\n",
       "      <td>A Class</td>\n",
       "      <td>2013.0</td>\n",
       "      <td>11998.0</td>\n",
       "      <td>1</td>\n",
       "      <td>13680.0</td>\n",
       "      <td>2</td>\n",
       "      <td>125.0</td>\n",
       "      <td>51.4</td>\n",
       "      <td>1.6</td>\n",
       "    </tr>\n",
       "    <tr>\n",
       "      <th>9</th>\n",
       "      <td>A Class</td>\n",
       "      <td>2020.0</td>\n",
       "      <td>28128.0</td>\n",
       "      <td>0</td>\n",
       "      <td>2563.0</td>\n",
       "      <td>2</td>\n",
       "      <td>145.0</td>\n",
       "      <td>47.9</td>\n",
       "      <td>1.3</td>\n",
       "    </tr>\n",
       "  </tbody>\n",
       "</table>\n",
       "</div>"
      ],
      "text/plain": [
       "     model    year    price  type  distance  fuel    tax  miles per galoon  \\\n",
       "0  A Class  2019.0  21998.0     2   11578.0     2  150.0              53.3   \n",
       "1  A Class  2014.0  10498.0     1   63177.0     0   30.0              64.2   \n",
       "2  A Class  2016.0  12498.0     1   54544.0     0   20.0              72.4   \n",
       "3  A Class  2018.0  17498.0     1    8601.0     2  145.0              51.4   \n",
       "4  A Class  2017.0  16798.0     1   24388.0     0   20.0              68.9   \n",
       "5  A Class  2017.0  15498.0     1   35295.0     0   20.0              68.9   \n",
       "6  A Class  2019.0  18241.0     0   15722.0     0  145.0              65.7   \n",
       "7  A Class  2018.0  17498.0     2   15597.0     0  145.0              68.9   \n",
       "8  A Class  2013.0  11998.0     1   13680.0     2  125.0              51.4   \n",
       "9  A Class  2020.0  28128.0     0    2563.0     2  145.0              47.9   \n",
       "\n",
       "   size  \n",
       "0   1.3  \n",
       "1   2.1  \n",
       "2   1.5  \n",
       "3   1.6  \n",
       "4   1.5  \n",
       "5   1.5  \n",
       "6   1.5  \n",
       "7   2.1  \n",
       "8   1.6  \n",
       "9   1.3  "
      ]
     },
     "execution_count": 549,
     "metadata": {},
     "output_type": "execute_result"
    }
   ],
   "source": [
    "#encoding fuel\n",
    "from sklearn import preprocessing\n",
    "df['fuel'] = preprocessing.LabelEncoder().fit_transform(df['fuel'])\n",
    "df.head(10)"
   ]
  },
  {
   "cell_type": "markdown",
   "id": "be04a7ae",
   "metadata": {},
   "source": [
    "К числовому формату привели фактор fuel"
   ]
  },
  {
   "cell_type": "code",
   "execution_count": 550,
   "id": "b511af93",
   "metadata": {},
   "outputs": [
    {
     "data": {
      "text/plain": [
       "17"
      ]
     },
     "execution_count": 550,
     "metadata": {},
     "output_type": "execute_result"
    }
   ],
   "source": [
    "df['model'].nunique()"
   ]
  },
  {
   "cell_type": "code",
   "execution_count": 551,
   "id": "d22670d3",
   "metadata": {},
   "outputs": [
    {
     "name": "stdout",
     "output_type": "stream",
     "text": [
      "['A Class' 'B Class' 'C Class' 'CL Class' 'CLA Class' 'CLC Class'\n",
      " 'CLS Class' 'E Class' 'GLA Class' 'GLC Class' 'GLE Class' 'GLS Class'\n",
      " 'M Class' 'S Class' 'SL CLASS' 'SLK' 'V Class']\n",
      "['A Class' 'B Class' 'C Class' 'CL Class' 'CLA Class' 'CLC Class'\n",
      " 'CLS Class' 'E Class' 'GLA Class' 'GLC Class' 'GLE Class' 'GLS Class'\n",
      " 'M Class' 'S Class' 'SL CLASS' 'SLK' 'V Class']\n",
      "['A Class' 'B Class' 'C Class' 'CL Class' 'CLA Class' 'CLC Class'\n",
      " 'CLS Class' 'E Class' 'GLA Class' 'GLC Class' 'GLE Class' 'GLS Class'\n",
      " 'M Class' 'S Class' 'SL CLASS' 'SLK' 'V Class']\n",
      "['A Class' 'B Class' 'C Class' 'CL Class' 'CLA Class' 'CLC Class'\n",
      " 'CLS Class' 'E Class' 'GLA Class' 'GLC Class' 'GLE Class' 'GLS Class'\n",
      " 'M Class' 'S Class' 'SL CLASS' 'SLK' 'V Class']\n",
      "['A Class' 'B Class' 'C Class' 'CL Class' 'CLA Class' 'CLC Class'\n",
      " 'CLS Class' 'E Class' 'GLA Class' 'GLC Class' 'GLE Class' 'GLS Class'\n",
      " 'M Class' 'S Class' 'SL CLASS' 'SLK' 'V Class']\n",
      "['A Class' 'B Class' 'C Class' 'CL Class' 'CLA Class' 'CLC Class'\n",
      " 'CLS Class' 'E Class' 'GLA Class' 'GLC Class' 'GLE Class' 'GLS Class'\n",
      " 'M Class' 'S Class' 'SL CLASS' 'SLK' 'V Class']\n",
      "['A Class' 'B Class' 'C Class' 'CL Class' 'CLA Class' 'CLC Class'\n",
      " 'CLS Class' 'E Class' 'GLA Class' 'GLC Class' 'GLE Class' 'GLS Class'\n",
      " 'M Class' 'S Class' 'SL CLASS' 'SLK' 'V Class']\n",
      "['A Class' 'B Class' 'C Class' 'CL Class' 'CLA Class' 'CLC Class'\n",
      " 'CLS Class' 'E Class' 'GLA Class' 'GLC Class' 'GLE Class' 'GLS Class'\n",
      " 'M Class' 'S Class' 'SL CLASS' 'SLK' 'V Class']\n",
      "['A Class' 'B Class' 'C Class' 'CL Class' 'CLA Class' 'CLC Class'\n",
      " 'CLS Class' 'E Class' 'GLA Class' 'GLC Class' 'GLE Class' 'GLS Class'\n",
      " 'M Class' 'S Class' 'SL CLASS' 'SLK' 'V Class']\n"
     ]
    }
   ],
   "source": [
    "for col in df:\n",
    "    print(df['model'].unique())"
   ]
  },
  {
   "cell_type": "code",
   "execution_count": 552,
   "id": "4277bcee",
   "metadata": {},
   "outputs": [
    {
     "data": {
      "text/html": [
       "<div>\n",
       "<style scoped>\n",
       "    .dataframe tbody tr th:only-of-type {\n",
       "        vertical-align: middle;\n",
       "    }\n",
       "\n",
       "    .dataframe tbody tr th {\n",
       "        vertical-align: top;\n",
       "    }\n",
       "\n",
       "    .dataframe thead th {\n",
       "        text-align: right;\n",
       "    }\n",
       "</style>\n",
       "<table border=\"1\" class=\"dataframe\">\n",
       "  <thead>\n",
       "    <tr style=\"text-align: right;\">\n",
       "      <th></th>\n",
       "      <th>model</th>\n",
       "      <th>year</th>\n",
       "      <th>price</th>\n",
       "      <th>type</th>\n",
       "      <th>distance</th>\n",
       "      <th>fuel</th>\n",
       "      <th>tax</th>\n",
       "      <th>miles per galoon</th>\n",
       "      <th>size</th>\n",
       "    </tr>\n",
       "  </thead>\n",
       "  <tbody>\n",
       "    <tr>\n",
       "      <th>0</th>\n",
       "      <td>0</td>\n",
       "      <td>2019.0</td>\n",
       "      <td>21998.0</td>\n",
       "      <td>2</td>\n",
       "      <td>11578.0</td>\n",
       "      <td>2</td>\n",
       "      <td>150.0</td>\n",
       "      <td>53.3</td>\n",
       "      <td>1.3</td>\n",
       "    </tr>\n",
       "    <tr>\n",
       "      <th>1</th>\n",
       "      <td>0</td>\n",
       "      <td>2014.0</td>\n",
       "      <td>10498.0</td>\n",
       "      <td>1</td>\n",
       "      <td>63177.0</td>\n",
       "      <td>0</td>\n",
       "      <td>30.0</td>\n",
       "      <td>64.2</td>\n",
       "      <td>2.1</td>\n",
       "    </tr>\n",
       "    <tr>\n",
       "      <th>2</th>\n",
       "      <td>0</td>\n",
       "      <td>2016.0</td>\n",
       "      <td>12498.0</td>\n",
       "      <td>1</td>\n",
       "      <td>54544.0</td>\n",
       "      <td>0</td>\n",
       "      <td>20.0</td>\n",
       "      <td>72.4</td>\n",
       "      <td>1.5</td>\n",
       "    </tr>\n",
       "    <tr>\n",
       "      <th>3</th>\n",
       "      <td>0</td>\n",
       "      <td>2018.0</td>\n",
       "      <td>17498.0</td>\n",
       "      <td>1</td>\n",
       "      <td>8601.0</td>\n",
       "      <td>2</td>\n",
       "      <td>145.0</td>\n",
       "      <td>51.4</td>\n",
       "      <td>1.6</td>\n",
       "    </tr>\n",
       "    <tr>\n",
       "      <th>4</th>\n",
       "      <td>0</td>\n",
       "      <td>2017.0</td>\n",
       "      <td>16798.0</td>\n",
       "      <td>1</td>\n",
       "      <td>24388.0</td>\n",
       "      <td>0</td>\n",
       "      <td>20.0</td>\n",
       "      <td>68.9</td>\n",
       "      <td>1.5</td>\n",
       "    </tr>\n",
       "    <tr>\n",
       "      <th>5</th>\n",
       "      <td>0</td>\n",
       "      <td>2017.0</td>\n",
       "      <td>15498.0</td>\n",
       "      <td>1</td>\n",
       "      <td>35295.0</td>\n",
       "      <td>0</td>\n",
       "      <td>20.0</td>\n",
       "      <td>68.9</td>\n",
       "      <td>1.5</td>\n",
       "    </tr>\n",
       "    <tr>\n",
       "      <th>6</th>\n",
       "      <td>0</td>\n",
       "      <td>2019.0</td>\n",
       "      <td>18241.0</td>\n",
       "      <td>0</td>\n",
       "      <td>15722.0</td>\n",
       "      <td>0</td>\n",
       "      <td>145.0</td>\n",
       "      <td>65.7</td>\n",
       "      <td>1.5</td>\n",
       "    </tr>\n",
       "    <tr>\n",
       "      <th>7</th>\n",
       "      <td>0</td>\n",
       "      <td>2018.0</td>\n",
       "      <td>17498.0</td>\n",
       "      <td>2</td>\n",
       "      <td>15597.0</td>\n",
       "      <td>0</td>\n",
       "      <td>145.0</td>\n",
       "      <td>68.9</td>\n",
       "      <td>2.1</td>\n",
       "    </tr>\n",
       "    <tr>\n",
       "      <th>8</th>\n",
       "      <td>0</td>\n",
       "      <td>2013.0</td>\n",
       "      <td>11998.0</td>\n",
       "      <td>1</td>\n",
       "      <td>13680.0</td>\n",
       "      <td>2</td>\n",
       "      <td>125.0</td>\n",
       "      <td>51.4</td>\n",
       "      <td>1.6</td>\n",
       "    </tr>\n",
       "    <tr>\n",
       "      <th>9</th>\n",
       "      <td>0</td>\n",
       "      <td>2020.0</td>\n",
       "      <td>28128.0</td>\n",
       "      <td>0</td>\n",
       "      <td>2563.0</td>\n",
       "      <td>2</td>\n",
       "      <td>145.0</td>\n",
       "      <td>47.9</td>\n",
       "      <td>1.3</td>\n",
       "    </tr>\n",
       "  </tbody>\n",
       "</table>\n",
       "</div>"
      ],
      "text/plain": [
       "   model    year    price  type  distance  fuel    tax  miles per galoon  size\n",
       "0      0  2019.0  21998.0     2   11578.0     2  150.0              53.3   1.3\n",
       "1      0  2014.0  10498.0     1   63177.0     0   30.0              64.2   2.1\n",
       "2      0  2016.0  12498.0     1   54544.0     0   20.0              72.4   1.5\n",
       "3      0  2018.0  17498.0     1    8601.0     2  145.0              51.4   1.6\n",
       "4      0  2017.0  16798.0     1   24388.0     0   20.0              68.9   1.5\n",
       "5      0  2017.0  15498.0     1   35295.0     0   20.0              68.9   1.5\n",
       "6      0  2019.0  18241.0     0   15722.0     0  145.0              65.7   1.5\n",
       "7      0  2018.0  17498.0     2   15597.0     0  145.0              68.9   2.1\n",
       "8      0  2013.0  11998.0     1   13680.0     2  125.0              51.4   1.6\n",
       "9      0  2020.0  28128.0     0    2563.0     2  145.0              47.9   1.3"
      ]
     },
     "execution_count": 552,
     "metadata": {},
     "output_type": "execute_result"
    }
   ],
   "source": [
    "#encoding body\n",
    "from sklearn import preprocessing\n",
    "df['model'] = preprocessing.LabelEncoder().fit_transform(df['model'])\n",
    "df.head(10)"
   ]
  },
  {
   "cell_type": "markdown",
   "id": "f7eed36e",
   "metadata": {},
   "source": [
    "К числовому формату привели фактор model"
   ]
  },
  {
   "cell_type": "code",
   "execution_count": 553,
   "id": "b90c644a",
   "metadata": {},
   "outputs": [
    {
     "data": {
      "text/plain": [
       "model                 int32\n",
       "year                float64\n",
       "price               float64\n",
       "type                  int64\n",
       "distance            float64\n",
       "fuel                  int32\n",
       "tax                 float64\n",
       "miles per galoon    float64\n",
       "size                float64\n",
       "dtype: object"
      ]
     },
     "execution_count": 553,
     "metadata": {},
     "output_type": "execute_result"
    }
   ],
   "source": [
    "df.dtypes"
   ]
  },
  {
   "cell_type": "code",
   "execution_count": 554,
   "id": "7cbfb5a4",
   "metadata": {},
   "outputs": [
    {
     "data": {
      "text/plain": [
       "<AxesSubplot:ylabel='Frequency'>"
      ]
     },
     "execution_count": 554,
     "metadata": {},
     "output_type": "execute_result"
    },
    {
     "data": {
      "image/png": "[encoded data removed]",
      "text/plain": [
       "<Figure size 432x288 with 1 Axes>"
      ]
     },
     "metadata": {
      "needs_background": "light"
     },
     "output_type": "display_data"
    }
   ],
   "source": [
    "df['price'].plot(kind = 'hist')"
   ]
  },
  {
   "cell_type": "markdown",
   "id": "c5375a69",
   "metadata": {},
   "source": [
    "Для большиства моделей цена варьируется от 15 до 25 тыс. у.е."
   ]
  },
  {
   "cell_type": "code",
   "execution_count": 555,
   "id": "4aea67b7",
   "metadata": {},
   "outputs": [
    {
     "data": {
      "text/plain": [
       "<AxesSubplot:ylabel='Frequency'>"
      ]
     },
     "execution_count": 555,
     "metadata": {},
     "output_type": "execute_result"
    },
    {
     "data": {
      "image/png": "[encoded data removed]",
      "text/plain": [
       "<Figure size 432x288 with 1 Axes>"
      ]
     },
     "metadata": {
      "needs_background": "light"
     },
     "output_type": "display_data"
    }
   ],
   "source": [
    "df['year'].plot(kind = 'hist')"
   ]
  },
  {
   "cell_type": "markdown",
   "id": "ba402878",
   "metadata": {},
   "source": [
    "Большинство моделей моложе 2016 года выпуска"
   ]
  },
  {
   "cell_type": "code",
   "execution_count": 559,
   "id": "754074a7",
   "metadata": {},
   "outputs": [
    {
     "data": {
      "text/plain": [
       "<AxesSubplot:ylabel='Frequency'>"
      ]
     },
     "execution_count": 559,
     "metadata": {},
     "output_type": "execute_result"
    },
    {
     "data": {
      "image/png": "[encoded data removed]",
      "text/plain": [
       "<Figure size 432x288 with 1 Axes>"
      ]
     },
     "metadata": {
      "needs_background": "light"
     },
     "output_type": "display_data"
    }
   ],
   "source": [
    "df['model'].plot(kind = 'hist')"
   ]
  },
  {
   "cell_type": "markdown",
   "id": "10f33262",
   "metadata": {},
   "source": [
    "Самый распространенный модели A Class, B Class, C Class"
   ]
  },
  {
   "cell_type": "code",
   "execution_count": 558,
   "id": "b1174020",
   "metadata": {},
   "outputs": [
    {
     "data": {
      "text/plain": [
       "<AxesSubplot:ylabel='Frequency'>"
      ]
     },
     "execution_count": 558,
     "metadata": {},
     "output_type": "execute_result"
    },
    {
     "data": {
      "image/png": "[encoded data removed]",
      "text/plain": [
       "<Figure size 432x288 with 1 Axes>"
      ]
     },
     "metadata": {
      "needs_background": "light"
     },
     "output_type": "display_data"
    }
   ],
   "source": [
    "df['type'].plot(kind = 'hist')"
   ]
  },
  {
   "cell_type": "markdown",
   "id": "3d894188",
   "metadata": {},
   "source": [
    "Самая распространенная коробка передач - Hybrid"
   ]
  },
  {
   "cell_type": "code",
   "execution_count": 560,
   "id": "4153f82a",
   "metadata": {},
   "outputs": [
    {
     "data": {
      "text/plain": [
       "<AxesSubplot:ylabel='Frequency'>"
      ]
     },
     "execution_count": 560,
     "metadata": {},
     "output_type": "execute_result"
    },
    {
     "data": {
      "image/png": "[encoded data removed]",
      "text/plain": [
       "<Figure size 432x288 with 1 Axes>"
      ]
     },
     "metadata": {
      "needs_background": "light"
     },
     "output_type": "display_data"
    }
   ],
   "source": [
    "df['distance'].plot(kind = 'hist')"
   ]
  },
  {
   "cell_type": "markdown",
   "id": "4b855295",
   "metadata": {},
   "source": [
    "Большинство автомобилей имеют пробег до 30 тыс. км"
   ]
  },
  {
   "cell_type": "code",
   "execution_count": 561,
   "id": "e614b54b",
   "metadata": {},
   "outputs": [
    {
     "data": {
      "text/plain": [
       "<AxesSubplot:ylabel='Frequency'>"
      ]
     },
     "execution_count": 561,
     "metadata": {},
     "output_type": "execute_result"
    },
    {
     "data": {
      "image/png": "[encoded data removed]",
      "text/plain": [
       "<Figure size 432x288 with 1 Axes>"
      ]
     },
     "metadata": {
      "needs_background": "light"
     },
     "output_type": "display_data"
    }
   ],
   "source": [
    "df['tax'].plot(kind = 'hist')"
   ]
  },
  {
   "cell_type": "markdown",
   "id": "f7b0eb1c",
   "metadata": {},
   "source": [
    "Большиство моделей выборки имеют налог 125-150 у.е."
   ]
  },
  {
   "cell_type": "code",
   "execution_count": 562,
   "id": "743662b5",
   "metadata": {},
   "outputs": [
    {
     "data": {
      "text/plain": [
       "<AxesSubplot:ylabel='Frequency'>"
      ]
     },
     "execution_count": 562,
     "metadata": {},
     "output_type": "execute_result"
    },
    {
     "data": {
      "image/png": "[encoded data removed]",
      "text/plain": [
       "<Figure size 432x288 with 1 Axes>"
      ]
     },
     "metadata": {
      "needs_background": "light"
     },
     "output_type": "display_data"
    }
   ],
   "source": [
    "df['miles per galoon'].plot(kind = 'hist')"
   ]
  },
  {
   "cell_type": "markdown",
   "id": "a28def89",
   "metadata": {},
   "source": [
    "Большинство автомобидей имеют расход топлива 45-70 "
   ]
  },
  {
   "cell_type": "code",
   "execution_count": 563,
   "id": "a2d48911",
   "metadata": {},
   "outputs": [
    {
     "data": {
      "text/plain": [
       "<AxesSubplot:ylabel='Frequency'>"
      ]
     },
     "execution_count": 563,
     "metadata": {},
     "output_type": "execute_result"
    },
    {
     "data": {
      "image/png": "[encoded data removed]",
      "text/plain": [
       "<Figure size 432x288 with 1 Axes>"
      ]
     },
     "metadata": {
      "needs_background": "light"
     },
     "output_type": "display_data"
    }
   ],
   "source": [
    "df['size'].plot(kind = 'hist')"
   ]
  },
  {
   "cell_type": "markdown",
   "id": "2155f31f",
   "metadata": {},
   "source": [
    "Самый распространенный объем двигателя - 2.0 л"
   ]
  },
  {
   "cell_type": "code",
   "execution_count": 564,
   "id": "74a710e6",
   "metadata": {},
   "outputs": [],
   "source": [
    "df.to_csv('merc1.csv', sep=',', index=False)"
   ]
  },
  {
   "cell_type": "code",
   "execution_count": 565,
   "id": "a5c143e2",
   "metadata": {},
   "outputs": [
    {
     "data": {
      "image/png": "[encoded data removed]",
      "text/plain": [
       "<Figure size 864x648 with 2 Axes>"
      ]
     },
     "metadata": {
      "needs_background": "light"
     },
     "output_type": "display_data"
    }
   ],
   "source": [
    "import seaborn as sns\n",
    "corrmat = df.corr()\n",
    "f, ax = plt.subplots(figsize=(12, 9))\n",
    "sns.heatmap(corrmat, annot=True)\n",
    "plt.show()"
   ]
  },
  {
   "cell_type": "markdown",
   "id": "9836927c",
   "metadata": {},
   "source": [
    "Наибольшая корреляция между факторами Цена и Год"
   ]
  },
  {
   "cell_type": "code",
   "execution_count": 566,
   "id": "1d2582d0",
   "metadata": {},
   "outputs": [
    {
     "data": {
      "text/html": [
       "<div>\n",
       "<style scoped>\n",
       "    .dataframe tbody tr th:only-of-type {\n",
       "        vertical-align: middle;\n",
       "    }\n",
       "\n",
       "    .dataframe tbody tr th {\n",
       "        vertical-align: top;\n",
       "    }\n",
       "\n",
       "    .dataframe thead th {\n",
       "        text-align: right;\n",
       "    }\n",
       "</style>\n",
       "<table border=\"1\" class=\"dataframe\">\n",
       "  <thead>\n",
       "    <tr style=\"text-align: right;\">\n",
       "      <th></th>\n",
       "      <th>model</th>\n",
       "      <th>year</th>\n",
       "      <th>price</th>\n",
       "      <th>type</th>\n",
       "      <th>distance</th>\n",
       "      <th>fuel</th>\n",
       "      <th>tax</th>\n",
       "      <th>miles per galoon</th>\n",
       "      <th>size</th>\n",
       "    </tr>\n",
       "  </thead>\n",
       "  <tbody>\n",
       "    <tr>\n",
       "      <th>count</th>\n",
       "      <td>444.000000</td>\n",
       "      <td>444.000000</td>\n",
       "      <td>444.000000</td>\n",
       "      <td>444.000000</td>\n",
       "      <td>444.000000</td>\n",
       "      <td>444.000000</td>\n",
       "      <td>444.000000</td>\n",
       "      <td>444.000000</td>\n",
       "      <td>444.000000</td>\n",
       "    </tr>\n",
       "    <tr>\n",
       "      <th>mean</th>\n",
       "      <td>5.644144</td>\n",
       "      <td>2016.637752</td>\n",
       "      <td>22199.329297</td>\n",
       "      <td>1.324324</td>\n",
       "      <td>25467.468489</td>\n",
       "      <td>0.418919</td>\n",
       "      <td>128.691558</td>\n",
       "      <td>56.240469</td>\n",
       "      <td>2.097011</td>\n",
       "    </tr>\n",
       "    <tr>\n",
       "      <th>std</th>\n",
       "      <td>4.844716</td>\n",
       "      <td>2.065282</td>\n",
       "      <td>8053.960267</td>\n",
       "      <td>0.887965</td>\n",
       "      <td>18645.395418</td>\n",
       "      <td>0.800791</td>\n",
       "      <td>64.361121</td>\n",
       "      <td>11.415221</td>\n",
       "      <td>0.455323</td>\n",
       "    </tr>\n",
       "    <tr>\n",
       "      <th>min</th>\n",
       "      <td>0.000000</td>\n",
       "      <td>2009.880295</td>\n",
       "      <td>2880.000000</td>\n",
       "      <td>0.000000</td>\n",
       "      <td>17.000000</td>\n",
       "      <td>0.000000</td>\n",
       "      <td>0.000000</td>\n",
       "      <td>28.000000</td>\n",
       "      <td>1.300000</td>\n",
       "    </tr>\n",
       "    <tr>\n",
       "      <th>25%</th>\n",
       "      <td>2.000000</td>\n",
       "      <td>2016.000000</td>\n",
       "      <td>17493.500000</td>\n",
       "      <td>0.000000</td>\n",
       "      <td>11492.500000</td>\n",
       "      <td>0.000000</td>\n",
       "      <td>125.000000</td>\n",
       "      <td>47.900000</td>\n",
       "      <td>2.000000</td>\n",
       "    </tr>\n",
       "    <tr>\n",
       "      <th>50%</th>\n",
       "      <td>4.000000</td>\n",
       "      <td>2017.000000</td>\n",
       "      <td>20824.500000</td>\n",
       "      <td>2.000000</td>\n",
       "      <td>22909.000000</td>\n",
       "      <td>0.000000</td>\n",
       "      <td>145.000000</td>\n",
       "      <td>56.500000</td>\n",
       "      <td>2.100000</td>\n",
       "    </tr>\n",
       "    <tr>\n",
       "      <th>75%</th>\n",
       "      <td>9.000000</td>\n",
       "      <td>2018.000000</td>\n",
       "      <td>26983.750000</td>\n",
       "      <td>2.000000</td>\n",
       "      <td>34377.000000</td>\n",
       "      <td>0.000000</td>\n",
       "      <td>146.250000</td>\n",
       "      <td>64.200000</td>\n",
       "      <td>2.100000</td>\n",
       "    </tr>\n",
       "    <tr>\n",
       "      <th>max</th>\n",
       "      <td>16.000000</td>\n",
       "      <td>2020.000000</td>\n",
       "      <td>47718.743976</td>\n",
       "      <td>2.000000</td>\n",
       "      <td>85026.144142</td>\n",
       "      <td>2.000000</td>\n",
       "      <td>322.025955</td>\n",
       "      <td>97.628070</td>\n",
       "      <td>3.536389</td>\n",
       "    </tr>\n",
       "  </tbody>\n",
       "</table>\n",
       "</div>"
      ],
      "text/plain": [
       "            model         year         price        type      distance  \\\n",
       "count  444.000000   444.000000    444.000000  444.000000    444.000000   \n",
       "mean     5.644144  2016.637752  22199.329297    1.324324  25467.468489   \n",
       "std      4.844716     2.065282   8053.960267    0.887965  18645.395418   \n",
       "min      0.000000  2009.880295   2880.000000    0.000000     17.000000   \n",
       "25%      2.000000  2016.000000  17493.500000    0.000000  11492.500000   \n",
       "50%      4.000000  2017.000000  20824.500000    2.000000  22909.000000   \n",
       "75%      9.000000  2018.000000  26983.750000    2.000000  34377.000000   \n",
       "max     16.000000  2020.000000  47718.743976    2.000000  85026.144142   \n",
       "\n",
       "             fuel         tax  miles per galoon        size  \n",
       "count  444.000000  444.000000        444.000000  444.000000  \n",
       "mean     0.418919  128.691558         56.240469    2.097011  \n",
       "std      0.800791   64.361121         11.415221    0.455323  \n",
       "min      0.000000    0.000000         28.000000    1.300000  \n",
       "25%      0.000000  125.000000         47.900000    2.000000  \n",
       "50%      0.000000  145.000000         56.500000    2.100000  \n",
       "75%      0.000000  146.250000         64.200000    2.100000  \n",
       "max      2.000000  322.025955         97.628070    3.536389  "
      ]
     },
     "execution_count": 566,
     "metadata": {},
     "output_type": "execute_result"
    }
   ],
   "source": [
    "df.describe()"
   ]
  },
  {
   "cell_type": "code",
   "execution_count": null,
   "id": "946a1263",
   "metadata": {},
   "outputs": [],
   "source": []
  }
 ],
 "metadata": {
  "kernelspec": {
   "display_name": "Python 3",
   "language": "python",
   "name": "python3"
  },
  "language_info": {
   "codemirror_mode": {
    "name": "ipython",
    "version": 3
   },
   "file_extension": ".py",
   "mimetype": "text/x-python",
   "name": "python",
   "nbconvert_exporter": "python",
   "pygments_lexer": "ipython3",
   "version": "3.8.8"
  }
 },
 "nbformat": 4,
 "nbformat_minor": 5
}
